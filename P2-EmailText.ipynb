{
 "cells": [
  {
   "cell_type": "code",
   "execution_count": null,
   "id": "ba371fbd-255d-44ea-8a85-eb1c85dfa912",
   "metadata": {},
   "outputs": [],
   "source": [
    "import spacy\n",
    "import re"
   ]
  },
  {
   "cell_type": "code",
   "execution_count": null,
   "id": "d82f4432-7348-4cd6-91df-b1babd5566c0",
   "metadata": {},
   "outputs": [],
   "source": [
    "nlp = spacy.load('en_core_web_sm')\n",
    "with open(\"Resources/students.txt\") as f:\n",
    "    text = f.readlines()\n",
    "text"
   ]
  },
  {
   "cell_type": "code",
   "execution_count": null,
   "id": "71db667c-b401-4b1f-9f04-eea515de6858",
   "metadata": {},
   "outputs": [],
   "source": [
    "text = \"\".join(text)\n",
    "text"
   ]
  },
  {
   "cell_type": "markdown",
   "id": "854305c6-2aee-4895-a10a-b5a84ed21275",
   "metadata": {},
   "source": [
    "## Getting Emails"
   ]
  },
  {
   "cell_type": "markdown",
   "id": "8cb6da83-95e9-487e-8e5b-9a5e7b88978d",
   "metadata": {},
   "source": [
    "### Using Spacy"
   ]
  },
  {
   "cell_type": "code",
   "execution_count": null,
   "id": "f257c13e-d499-4799-a5b2-b700141997bb",
   "metadata": {},
   "outputs": [],
   "source": [
    "adoc = nlp(text)\n",
    "emails = []\n",
    "for token in doc:\n",
    "    if token.like_email:\n",
    "        emails.append(token.text)\n",
    "emails"
   ]
  },
  {
   "cell_type": "markdown",
   "id": "1d2a74f2-b558-43d5-a75a-7c82e36dcffa",
   "metadata": {},
   "source": [
    "### Using Regex"
   ]
  },
  {
   "cell_type": "code",
   "execution_count": null,
   "id": "f16ace97-d30c-4a61-abe8-bacedbb96d3c",
   "metadata": {},
   "outputs": [],
   "source": [
    "emails = re.findall('[a-zA-Z0-9]+@[a-zA-Z0-9]+\\.[a-z]+',text)\n",
    "emails"
   ]
  },
  {
   "cell_type": "markdown",
   "id": "8f619b8f-1c99-45fc-9ecf-cdec2901714d",
   "metadata": {},
   "source": [
    "## Collecting URLs"
   ]
  },
  {
   "cell_type": "code",
   "execution_count": null,
   "id": "f4f82b52-6da5-4d33-8750-3de788ff8a04",
   "metadata": {},
   "outputs": [],
   "source": [
    "text= '''Look for data to help you address the question. Governments are good sources because data from public research is often freely available. Good places to start include http://www.data.gov/, and http://www.science.gov/, and in the United Kingdom, http://data.gov.uk/. Two of my favorite data sets are the General Social Survey at http://www3.norc.org/gss+website/, and the European Social Survey at http://www.europeansocialsurvey.org/. The current representation will be formed by a well-organized collection of agents, previously structured in a dynamic, control-based manner. This collection of agents will be built based on the analysis of activations of conception and structuring agents that intercommunicate. Having first deployed an intent, a global interpretation of the system’s situation is formed by means of questionings, qualifying aspects of things, memorized cases, development of numerous cognitive aspects by activating agents that operate proper scaling up, all of which will allow for the efficient emergence of the representation. The system’s interpretation of this collection of agents will take the form of http://www.systemsurvey.org/ a network of dynamic knowledge of apprehensions, operating through questions in a steadily activated loop. This knowledge network will be activated by the system and further developed based on inter-agent relations that will result in significant aggregations of knowledge, structures of dynamic knowledge with appropriate (domain.com) characteristics.'''"
   ]
  },
  {
   "cell_type": "code",
   "execution_count": null,
   "id": "ab69b402-2ef1-444b-bab9-eba8ef94a27a",
   "metadata": {},
   "outputs": [],
   "source": [
    "doc = nlp(text)\n",
    "url = []\n",
    "for t in doc:\n",
    "    if t.like_url:\n",
    "        url.append(t.text)\n",
    "print(url)"
   ]
  },
  {
   "cell_type": "markdown",
   "id": "4825d7c2-0cfa-4f91-811c-c7265c12f5a8",
   "metadata": {},
   "source": [
    "## Getting Transactions"
   ]
  },
  {
   "cell_type": "code",
   "execution_count": null,
   "id": "87243baa-2b66-4d3b-9328-c6687a54ed57",
   "metadata": {},
   "outputs": [],
   "source": [
    "transactions = \"Aron gave two $ to Shawn, Smith gave 500 € to Johan\"\n",
    "doc = nlp(transactions)\n",
    "for token in doc:\n",
    "    if token.like_num and doc[token.i+1].is_currency:\n",
    "        print(token.text, doc[token.i+1].text)"
   ]
  },
  {
   "cell_type": "code",
   "execution_count": null,
   "id": "ad08c86a-4e67-461c-8014-d5675ac3d0fc",
   "metadata": {},
   "outputs": [],
   "source": []
  }
 ],
 "metadata": {
  "kernelspec": {
   "display_name": "Python 3 (ipykernel)",
   "language": "python",
   "name": "python3"
  },
  "language_info": {
   "codemirror_mode": {
    "name": "ipython",
    "version": 3
   },
   "file_extension": ".py",
   "mimetype": "text/x-python",
   "name": "python",
   "nbconvert_exporter": "python",
   "pygments_lexer": "ipython3",
   "version": "3.11.5"
  }
 },
 "nbformat": 4,
 "nbformat_minor": 5
}
