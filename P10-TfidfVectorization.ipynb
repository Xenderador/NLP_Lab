{
 "cells": [
  {
   "cell_type": "markdown",
   "id": "461e2f3a-c977-4325-b1f8-07a923f999f7",
   "metadata": {},
   "source": [
    "# Perform TFIDF Vectorization"
   ]
  },
  {
   "cell_type": "code",
   "execution_count": 1,
   "id": "f7de87c0-2293-411d-ba3a-39842710397e",
   "metadata": {},
   "outputs": [],
   "source": [
    "msg = [\"Shaw likes to play cricket\", \"Mary likes to play tennis\", \"John likes to play volleyball or cricket\", \"Heena likes to play tennis or throwball\"]\n"
   ]
  },
  {
   "cell_type": "code",
   "execution_count": 2,
   "id": "83010d84-b3be-486a-b019-d513db728f0b",
   "metadata": {},
   "outputs": [],
   "source": [
    "import pandas as pd\n",
    "from sklearn.feature_extraction.text import TfidfVectorizer, CountVectorizer"
   ]
  },
  {
   "cell_type": "code",
   "execution_count": 3,
   "id": "10840352-0809-43e7-a3b3-d6e66a53fc5d",
   "metadata": {},
   "outputs": [
    {
     "name": "stdout",
     "output_type": "stream",
     "text": [
      "['cricket' 'heena' 'john' 'likes' 'mary' 'or' 'play' 'shaw' 'tennis'\n",
      " 'throwball' 'to' 'volleyball']\n"
     ]
    },
    {
     "data": {
      "text/html": [
       "<div>\n",
       "<style scoped>\n",
       "    .dataframe tbody tr th:only-of-type {\n",
       "        vertical-align: middle;\n",
       "    }\n",
       "\n",
       "    .dataframe tbody tr th {\n",
       "        vertical-align: top;\n",
       "    }\n",
       "\n",
       "    .dataframe thead th {\n",
       "        text-align: right;\n",
       "    }\n",
       "</style>\n",
       "<table border=\"1\" class=\"dataframe\">\n",
       "  <thead>\n",
       "    <tr style=\"text-align: right;\">\n",
       "      <th></th>\n",
       "      <th>cricket</th>\n",
       "      <th>heena</th>\n",
       "      <th>john</th>\n",
       "      <th>likes</th>\n",
       "      <th>mary</th>\n",
       "      <th>or</th>\n",
       "      <th>play</th>\n",
       "      <th>shaw</th>\n",
       "      <th>tennis</th>\n",
       "      <th>throwball</th>\n",
       "      <th>to</th>\n",
       "      <th>volleyball</th>\n",
       "    </tr>\n",
       "  </thead>\n",
       "  <tbody>\n",
       "    <tr>\n",
       "      <th>0</th>\n",
       "      <td>1</td>\n",
       "      <td>0</td>\n",
       "      <td>0</td>\n",
       "      <td>1</td>\n",
       "      <td>0</td>\n",
       "      <td>0</td>\n",
       "      <td>1</td>\n",
       "      <td>1</td>\n",
       "      <td>0</td>\n",
       "      <td>0</td>\n",
       "      <td>1</td>\n",
       "      <td>0</td>\n",
       "    </tr>\n",
       "    <tr>\n",
       "      <th>1</th>\n",
       "      <td>0</td>\n",
       "      <td>0</td>\n",
       "      <td>0</td>\n",
       "      <td>1</td>\n",
       "      <td>1</td>\n",
       "      <td>0</td>\n",
       "      <td>1</td>\n",
       "      <td>0</td>\n",
       "      <td>1</td>\n",
       "      <td>0</td>\n",
       "      <td>1</td>\n",
       "      <td>0</td>\n",
       "    </tr>\n",
       "    <tr>\n",
       "      <th>2</th>\n",
       "      <td>1</td>\n",
       "      <td>0</td>\n",
       "      <td>1</td>\n",
       "      <td>1</td>\n",
       "      <td>0</td>\n",
       "      <td>1</td>\n",
       "      <td>1</td>\n",
       "      <td>0</td>\n",
       "      <td>0</td>\n",
       "      <td>0</td>\n",
       "      <td>1</td>\n",
       "      <td>1</td>\n",
       "    </tr>\n",
       "    <tr>\n",
       "      <th>3</th>\n",
       "      <td>0</td>\n",
       "      <td>1</td>\n",
       "      <td>0</td>\n",
       "      <td>1</td>\n",
       "      <td>0</td>\n",
       "      <td>1</td>\n",
       "      <td>1</td>\n",
       "      <td>0</td>\n",
       "      <td>1</td>\n",
       "      <td>1</td>\n",
       "      <td>1</td>\n",
       "      <td>0</td>\n",
       "    </tr>\n",
       "  </tbody>\n",
       "</table>\n",
       "</div>"
      ],
      "text/plain": [
       "   cricket  heena  john  likes  mary  or  play  shaw  tennis  throwball  to  \\\n",
       "0        1      0     0      1     0   0     1     1       0          0   1   \n",
       "1        0      0     0      1     1   0     1     0       1          0   1   \n",
       "2        1      0     1      1     0   1     1     0       0          0   1   \n",
       "3        0      1     0      1     0   1     1     0       1          1   1   \n",
       "\n",
       "   volleyball  \n",
       "0           0  \n",
       "1           0  \n",
       "2           1  \n",
       "3           0  "
      ]
     },
     "execution_count": 3,
     "metadata": {},
     "output_type": "execute_result"
    }
   ],
   "source": [
    "vec = CountVectorizer()\n",
    "bag = vec.fit_transform(msg).toarray()\n",
    "print(vec.get_feature_names_out())\n",
    "df = pd.DataFrame(bag, columns=vec.get_feature_names_out())\n",
    "df"
   ]
  },
  {
   "cell_type": "markdown",
   "id": "013e8a18-d6ba-474d-be90-80b22e0c5c86",
   "metadata": {},
   "source": [
    "## Tf-IDF"
   ]
  },
  {
   "cell_type": "code",
   "execution_count": 4,
   "id": "a310f9cb-e9c2-4f5c-bf27-545ffa8e077e",
   "metadata": {},
   "outputs": [
    {
     "name": "stdout",
     "output_type": "stream",
     "text": [
      "['cricket' 'heena' 'john' 'likes' 'mary' 'or' 'play' 'shaw' 'tennis'\n",
      " 'throwball' 'to' 'volleyball']\n"
     ]
    },
    {
     "data": {
      "text/html": [
       "<div>\n",
       "<style scoped>\n",
       "    .dataframe tbody tr th:only-of-type {\n",
       "        vertical-align: middle;\n",
       "    }\n",
       "\n",
       "    .dataframe tbody tr th {\n",
       "        vertical-align: top;\n",
       "    }\n",
       "\n",
       "    .dataframe thead th {\n",
       "        text-align: right;\n",
       "    }\n",
       "</style>\n",
       "<table border=\"1\" class=\"dataframe\">\n",
       "  <thead>\n",
       "    <tr style=\"text-align: right;\">\n",
       "      <th></th>\n",
       "      <th>cricket</th>\n",
       "      <th>heena</th>\n",
       "      <th>john</th>\n",
       "      <th>likes</th>\n",
       "      <th>mary</th>\n",
       "      <th>or</th>\n",
       "      <th>play</th>\n",
       "      <th>shaw</th>\n",
       "      <th>tennis</th>\n",
       "      <th>throwball</th>\n",
       "      <th>to</th>\n",
       "      <th>volleyball</th>\n",
       "    </tr>\n",
       "  </thead>\n",
       "  <tbody>\n",
       "    <tr>\n",
       "      <th>0</th>\n",
       "      <td>0.504879</td>\n",
       "      <td>0.000000</td>\n",
       "      <td>0.000000</td>\n",
       "      <td>0.334174</td>\n",
       "      <td>0.000000</td>\n",
       "      <td>0.000000</td>\n",
       "      <td>0.334174</td>\n",
       "      <td>0.640375</td>\n",
       "      <td>0.000000</td>\n",
       "      <td>0.000000</td>\n",
       "      <td>0.334174</td>\n",
       "      <td>0.000000</td>\n",
       "    </tr>\n",
       "    <tr>\n",
       "      <th>1</th>\n",
       "      <td>0.000000</td>\n",
       "      <td>0.000000</td>\n",
       "      <td>0.000000</td>\n",
       "      <td>0.334174</td>\n",
       "      <td>0.640375</td>\n",
       "      <td>0.000000</td>\n",
       "      <td>0.334174</td>\n",
       "      <td>0.000000</td>\n",
       "      <td>0.504879</td>\n",
       "      <td>0.000000</td>\n",
       "      <td>0.334174</td>\n",
       "      <td>0.000000</td>\n",
       "    </tr>\n",
       "    <tr>\n",
       "      <th>2</th>\n",
       "      <td>0.391275</td>\n",
       "      <td>0.000000</td>\n",
       "      <td>0.496283</td>\n",
       "      <td>0.258981</td>\n",
       "      <td>0.000000</td>\n",
       "      <td>0.391275</td>\n",
       "      <td>0.258981</td>\n",
       "      <td>0.000000</td>\n",
       "      <td>0.000000</td>\n",
       "      <td>0.000000</td>\n",
       "      <td>0.258981</td>\n",
       "      <td>0.496283</td>\n",
       "    </tr>\n",
       "    <tr>\n",
       "      <th>3</th>\n",
       "      <td>0.000000</td>\n",
       "      <td>0.496283</td>\n",
       "      <td>0.000000</td>\n",
       "      <td>0.258981</td>\n",
       "      <td>0.000000</td>\n",
       "      <td>0.391275</td>\n",
       "      <td>0.258981</td>\n",
       "      <td>0.000000</td>\n",
       "      <td>0.391275</td>\n",
       "      <td>0.496283</td>\n",
       "      <td>0.258981</td>\n",
       "      <td>0.000000</td>\n",
       "    </tr>\n",
       "  </tbody>\n",
       "</table>\n",
       "</div>"
      ],
      "text/plain": [
       "    cricket     heena      john     likes      mary        or      play  \\\n",
       "0  0.504879  0.000000  0.000000  0.334174  0.000000  0.000000  0.334174   \n",
       "1  0.000000  0.000000  0.000000  0.334174  0.640375  0.000000  0.334174   \n",
       "2  0.391275  0.000000  0.496283  0.258981  0.000000  0.391275  0.258981   \n",
       "3  0.000000  0.496283  0.000000  0.258981  0.000000  0.391275  0.258981   \n",
       "\n",
       "       shaw    tennis  throwball        to  volleyball  \n",
       "0  0.640375  0.000000   0.000000  0.334174    0.000000  \n",
       "1  0.000000  0.504879   0.000000  0.334174    0.000000  \n",
       "2  0.000000  0.000000   0.000000  0.258981    0.496283  \n",
       "3  0.000000  0.391275   0.496283  0.258981    0.000000  "
      ]
     },
     "execution_count": 4,
     "metadata": {},
     "output_type": "execute_result"
    }
   ],
   "source": [
    "vec = TfidfVectorizer()\n",
    "bag = vec.fit_transform(msg)\n",
    "print(vec.get_feature_names_out())\n",
    "df = pd.DataFrame(bag.toarray(), columns=vec.get_feature_names_out())\n",
    "df"
   ]
  },
  {
   "cell_type": "markdown",
   "id": "a8c0ae9f-428e-4dda-8c4f-a94f2aed8ea8",
   "metadata": {},
   "source": [
    "## Word2Vec"
   ]
  },
  {
   "cell_type": "code",
   "execution_count": 5,
   "id": "7aae065d-71b4-4e5a-8013-1d48629278c3",
   "metadata": {},
   "outputs": [],
   "source": [
    "import nltk"
   ]
  },
  {
   "cell_type": "code",
   "execution_count": 6,
   "id": "5d642669-31f7-449a-96c1-19badaecd091",
   "metadata": {},
   "outputs": [],
   "source": [
    "from nltk.tokenize import word_tokenize"
   ]
  },
  {
   "cell_type": "code",
   "execution_count": 7,
   "id": "c5bc3132-83fb-40c9-90cc-0573b206a476",
   "metadata": {},
   "outputs": [
    {
     "data": {
      "text/plain": [
       "'With Bag of Words and TF-IDF text vectorization techniques we did not get semantic meaning of words But for most of the applications of NLP tasks like sentiment classification, sarcasm detection etc require semantic meaning of a word and semantic relationships of a word with other words.\\n'"
      ]
     },
     "execution_count": 7,
     "metadata": {},
     "output_type": "execute_result"
    }
   ],
   "source": [
    "with open('Resources/word2vec.txt') as f:\n",
    "    text = f.readlines()\n",
    "text[0]"
   ]
  },
  {
   "cell_type": "code",
   "execution_count": 8,
   "id": "b9726bc3-9141-4968-8d67-c4169490c16f",
   "metadata": {},
   "outputs": [
    {
     "name": "stdout",
     "output_type": "stream",
     "text": [
      "Number of sentences:  11\n",
      "First Sentence:  With Bag of Words and TF IDF text vectorization techniques we did not get semantic meaning of words But for most of the applications of NLP tasks like sentiment classification  sarcasm detection etc require semantic meaning of a word and semantic relationships of a word with other words  \n"
     ]
    }
   ],
   "source": [
    "import re\n",
    "for i in range(len(text)):\n",
    "    text[i] = re.sub(r'[^a-zA-Z]', \" \", text[i])\n",
    "print(\"Number of sentences: \", len(text))\n",
    "print(\"First Sentence: \", text[0])\n",
    "        "
   ]
  },
  {
   "cell_type": "code",
   "execution_count": 10,
   "id": "78fa12a4-b174-43c6-b965-cfc5b8f48ccc",
   "metadata": {},
   "outputs": [
    {
     "data": {
      "text/plain": [
       "['With',\n",
       " 'Bag',\n",
       " 'of',\n",
       " 'Words',\n",
       " 'and',\n",
       " 'TF',\n",
       " 'IDF',\n",
       " 'text',\n",
       " 'vectorization',\n",
       " 'techniques',\n",
       " 'we',\n",
       " 'did',\n",
       " 'not',\n",
       " 'get',\n",
       " 'semantic',\n",
       " 'meaning',\n",
       " 'of',\n",
       " 'words',\n",
       " 'But',\n",
       " 'for',\n",
       " 'most',\n",
       " 'of',\n",
       " 'the',\n",
       " 'applications',\n",
       " 'of',\n",
       " 'NLP',\n",
       " 'tasks',\n",
       " 'like',\n",
       " 'sentiment',\n",
       " 'classification',\n",
       " 'sarcasm',\n",
       " 'detection',\n",
       " 'etc',\n",
       " 'require',\n",
       " 'semantic',\n",
       " 'meaning',\n",
       " 'of',\n",
       " 'a',\n",
       " 'word',\n",
       " 'and',\n",
       " 'semantic',\n",
       " 'relationships',\n",
       " 'of',\n",
       " 'a',\n",
       " 'word',\n",
       " 'with',\n",
       " 'other',\n",
       " 'words']"
      ]
     },
     "execution_count": 10,
     "metadata": {},
     "output_type": "execute_result"
    }
   ],
   "source": [
    "tokens =[]\n",
    "for i in text:\n",
    "    tokens.append(word_tokenize(i))\n",
    "tokens[0]"
   ]
  },
  {
   "cell_type": "code",
   "execution_count": 13,
   "id": "c28886a8-41d4-4f4b-b48d-e1ecbca99286",
   "metadata": {},
   "outputs": [
    {
     "data": {
      "text/plain": [
       "['of',\n",
       " 'and',\n",
       " 'words',\n",
       " 'a',\n",
       " 'vector',\n",
       " 'the',\n",
       " 'word',\n",
       " 'space',\n",
       " 'Word',\n",
       " 'in',\n",
       " 'semantic',\n",
       " 'context',\n",
       " 'method',\n",
       " 'gram',\n",
       " 'to',\n",
       " 'vec',\n",
       " 'skip',\n",
       " 'as',\n",
       " 'are',\n",
       " 'we',\n",
       " 'meaning',\n",
       " 'for',\n",
       " 'most',\n",
       " 'center',\n",
       " 'be',\n",
       " 'input',\n",
       " 'relationships',\n",
       " 'with',\n",
       " 'other',\n",
       " 'corpus',\n",
       " 'embeddings',\n",
       " 'well',\n",
       " 'size',\n",
       " 'is']"
      ]
     },
     "execution_count": 13,
     "metadata": {},
     "output_type": "execute_result"
    }
   ],
   "source": [
    "from gensim.models import Word2Vec\n",
    "cbow = Word2Vec(sentences=tokens, min_count=2, vector_size=2)\n",
    "word = cbow.wv.index_to_key\n",
    "word"
   ]
  },
  {
   "cell_type": "code",
   "execution_count": 14,
   "id": "b2fe19bc-0a85-495c-b93a-3733df93e4b6",
   "metadata": {},
   "outputs": [
    {
     "name": "stdout",
     "output_type": "stream",
     "text": [
      "Total Words:  34\n"
     ]
    },
    {
     "data": {
      "text/plain": [
       "array([0.255022, 0.450747], dtype=float32)"
      ]
     },
     "execution_count": 14,
     "metadata": {},
     "output_type": "execute_result"
    }
   ],
   "source": [
    "print(\"Total Words: \", len(word))\n",
    "cbow.wv.__getitem__('and')"
   ]
  },
  {
   "cell_type": "code",
   "execution_count": null,
   "id": "e8311772-cd00-4cf6-81cd-205d1c26e719",
   "metadata": {},
   "outputs": [],
   "source": []
  }
 ],
 "metadata": {
  "kernelspec": {
   "display_name": "Python 3 (ipykernel)",
   "language": "python",
   "name": "python3"
  },
  "language_info": {
   "codemirror_mode": {
    "name": "ipython",
    "version": 3
   },
   "file_extension": ".py",
   "mimetype": "text/x-python",
   "name": "python",
   "nbconvert_exporter": "python",
   "pygments_lexer": "ipython3",
   "version": "3.11.5"
  }
 },
 "nbformat": 4,
 "nbformat_minor": 5
}
