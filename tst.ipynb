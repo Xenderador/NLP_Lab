{
 "cells": [
  {
   "cell_type": "markdown",
   "metadata": {},
   "source": [
    "# 1"
   ]
  },
  {
   "cell_type": "code",
   "execution_count": 1,
   "metadata": {},
   "outputs": [],
   "source": [
    "text = \"\"\"Hello this is the first nlp lab program and i am gonna do it\"\"\""
   ]
  },
  {
   "cell_type": "code",
   "execution_count": 4,
   "metadata": {},
   "outputs": [
    {
     "name": "stderr",
     "output_type": "stream",
     "text": [
      "[nltk_data] Downloading package punkt to\n",
      "[nltk_data]     /Users/kartiksanil/nltk_data...\n",
      "[nltk_data]   Unzipping tokenizers/punkt.zip.\n"
     ]
    }
   ],
   "source": [
    "import nltk\n",
    "nltk.download('punkt')\n",
    "from nltk.tokenize import word_tokenize, sent_tokenize"
   ]
  },
  {
   "cell_type": "code",
   "execution_count": 5,
   "metadata": {},
   "outputs": [
    {
     "name": "stdout",
     "output_type": "stream",
     "text": [
      "Word Tokenize ['Hello', 'this', 'is', 'the', 'first', 'nlp', 'lab', 'program', 'and', 'i', 'am', 'gon', 'na', 'do', 'it']\n",
      "Sent Tokenize ['Hello this is the first nlp lab program and i am gonna do it']\n"
     ]
    }
   ],
   "source": [
    "word = word_tokenize(text);\n",
    "sent = sent_tokenize(text);\n",
    "print(\"Word Tokenize\", word)\n",
    "print(\"Sent Tokenize\", sent)"
   ]
  },
  {
   "cell_type": "code",
   "execution_count": 7,
   "metadata": {},
   "outputs": [
    {
     "name": "stdout",
     "output_type": "stream",
     "text": [
      "Word Tokenize ['Hello', 'this', 'is', 'the', 'first', 'nlp', 'lab', 'program', 'and', 'i', 'am', 'gonna', 'do', 'it']\n",
      "Sent Tokenize ['Hello this is the first nlp lab program and i am gonna do it']\n"
     ]
    }
   ],
   "source": [
    "import re\n",
    "word = re.findall('[\\w]+', text)\n",
    "sent = re.compile('[.]').split(text)\n",
    "print(\"Word Tokenize\", word)\n",
    "print(\"Sent Tokenize\", sent)"
   ]
  },
  {
   "cell_type": "code",
   "execution_count": 10,
   "metadata": {},
   "outputs": [
    {
     "name": "stdout",
     "output_type": "stream",
     "text": [
      "Word Tokenize ['Hello', 'this', 'is', 'the', 'first', 'nlp', 'lab', 'program', 'and', 'i', 'am', 'gon', 'na', 'do', 'it']\n",
      "Sent Tokenize ['Hello this is the first nlp lab program and i am gonna do it']\n"
     ]
    }
   ],
   "source": [
    "import spacy\n",
    "nlp = spacy.load('en_core_web_sm')\n",
    "doc = nlp(text)\n",
    "word = []\n",
    "for t in doc:\n",
    "    word.append(t.text)\n",
    "sent = []\n",
    "for t in doc.sents:\n",
    "    sent.append(t.text)\n",
    "print(\"Word Tokenize\", word)\n",
    "print(\"Sent Tokenize\", sent)        "
   ]
  },
  {
   "cell_type": "markdown",
   "metadata": {},
   "source": [
    "## 2"
   ]
  },
  {
   "cell_type": "code",
   "execution_count": 26,
   "metadata": {},
   "outputs": [
    {
     "data": {
      "text/plain": [
       "'NMAMIT Institute of Tachnology,Bachelor of Engineering \\n\\n  Name    birth day         email \\n \\n Virat   5/06/1882     virat@kohli.com\\n Maria   2/04/2001    maria@sharapova.com\\n Serena  24/06/1998   serena@williams.com\\n Joe      1/05/1997    joe@root.com\\n ashwal   11/05/2008    ashwal@nmamit.ac.in\\n Joen      1/09/2000  joen@nmamit.ac.in\\n Clawn    1/10/2005   clawn@nitte.edu.in.com\\n reeema      21/05/1997    reema@flagroots.com\\n leesha      4/6/2008    leesha@root.com\\n harshin      7/07/2019    harshin@dreams.com\\n Dhruvi       30/11/2022   dhrvi@nitte.edu.in\\n Jane      1/9/2000    jane@nmamit.ac.in\\n Jon      12/12/2003    jon@nmamit.ac.in\\n Jonin      10/2/1998    jonin@nmamit.ac.in\\n Haon      4/1/2010    hoen@nmamit.ac.in\\n Renz      5/5/1999    ren@nmamit.ac.in\\n Joe      1/9/2000    joe@nmamit.ac.in\\nChristopherAnderson    2/3/1981  ChristopherAnderson@gmail.com\\nRonaldClark   3/4/1981        RonaldClark@gmail.com\\nMaryWright    4/5/1981       MaryWright@gmail.com\\nLisa Mitchell 5/6/1981 LisaMitchell@gmail.com\\nMichelle Johnson 6/7/1981 MichelleJohnson@gmail.com\\nJohn Thomas 7/8/1981  JohnThomas@gmail.com\\nDaniel Rodriguez 8/9/1981 DanielRodriguez@gmail.com\\nAnthony Lopez 9/10/1981 AnthonyLopez@gmail.com\\nPatricia Perez 1/10/1975 PatriciaPerez@gmail.com\\nNancy Williams 2/11/1975 NancyWilliams@hotmail.com\\nLaura Jackson 3/12/1975 LauraJackson@hotmail.com\\nRobert Lewis 4/13/1975 RobertLewis@hotmail.com\\nPaul Hill 5/14/1975 PaulHill@hotmail.com\\nKevin Roberts 6/14/1975 KevinRoberts@hotmail.com\\nLinda Jones 7/16/1975 LindaJones@hotmail.com\\nKaren White 8/17/1975 KarenWhite@hotmail.com\\nSarah Lee 9/18/1975 SarahLee@hotmail.com\\nMichael Scott 10/19/1975 MichaelScott@hotmail.com\\nMark Turner 1/20/1991 MarkTurner@hotmail.com\\nJason Brown 2/21/1991 JasonBrown@aol.com\\nBarbara Harris 3/22/1991 BarbaraHarris@aol.com\\nBetty Walker 4/23/1991 BettyWalker@aol.com\\nKimberly Green 5/24/1991 KimberlyGreen@aol.com\\nWilliam Phillips 6/25/1991 WilliamPhillips@aol.com\\nDonald Davis 7/26/1991 DonaldDavis@aol.com\\nJeff Martin 8/27/1991 JeffMartin@aol.com\\nElizabeth Hall 9/28/1991 ElizabethHall@aol.com\\nHele Adams 10/29/1991 HelenAdams@aol.com\\nDeborah Campbell 11/30/1991 DeborahCampbell@aol.com\\nDavid Miller 12/31/1991 DavidMiller@yahoo.com\\nGeorge Thompson 1/17/1968 GeorgeThompson@yahoo.com\\nJennifer Allen 2/18/1968 JenniferAllen@yahoo.com\\nSandra Baker 3/19/1968 SandraBaker@yahoo.com\\nRichard Parker 4/20/1968 RichardParker@yahoo.com\\nKenneth Wilson 5/21/1968 KennethWilson@yahoo.com\\nMaria Garcia 6/22/1968 MariaGarcia@yahoo.com\\nDonna Young 7/23/1968 DonnaYoung@yahoo.com\\nCharles Gonzalez 8/24/1968 CharlesGonzalez@yahoo.com\\nSteven Evans 9/25/1968 StevenEvans@yahoo.com\\nSusan Moore 10/26/1968 SusanMoore@yahoo.com\\nCarol Martinez 11/27/1968 CarolMartinez@facebook.com\\nJoseph Hernandez 12/28/1968 JosephHernandez@facebook.com\\nEdward Nelson 1/29/1968 EdwardNelson@facebook.com\\nMargaret Edwards 1/30/1968 MargaretEdwards@facebook.com\\nRuth Taylor 1/31/1968 RuthTaylor@facebook.com\\nThomas Robinson 2/1/1968 ThomasRobinson@facebook.com\\nBrian King 2/2/1968 BrianKing@facebook.com\\nDorothy Carter 2/3/1968 DorothyCarter@facebook.com\\nSharon Collins 2/4/1968 SharonCollins@facebook.com'"
      ]
     },
     "execution_count": 26,
     "metadata": {},
     "output_type": "execute_result"
    }
   ],
   "source": [
    "import spacy\n",
    "import re\n",
    "\n",
    "nlp = spacy.load('en_core_web_sm')\n",
    "with open('Resources/students.txt') as f:\n",
    "    text = f.readlines()\n",
    "text = ''.join(text)\n",
    "text"
   ]
  },
  {
   "cell_type": "code",
   "execution_count": 24,
   "metadata": {},
   "outputs": [
    {
     "data": {
      "text/plain": [
       "['virat@kohli.com',\n",
       " 'maria@sharapova.com',\n",
       " 'serena@williams.com',\n",
       " 'joe@root.com',\n",
       " 'ashwal@nmamit.ac.in',\n",
       " 'joen@nmamit.ac.in',\n",
       " 'clawn@nitte.edu.in.com',\n",
       " 'reema@flagroots.com',\n",
       " 'leesha@root.com',\n",
       " 'harshin@dreams.com',\n",
       " 'dhrvi@nitte.edu.in',\n",
       " 'jane@nmamit.ac.in',\n",
       " 'jon@nmamit.ac.in',\n",
       " 'jonin@nmamit.ac.in',\n",
       " 'hoen@nmamit.ac.in',\n",
       " 'ren@nmamit.ac.in',\n",
       " 'joe@nmamit.ac.in',\n",
       " 'ChristopherAnderson@gmail.com',\n",
       " 'RonaldClark@gmail.com',\n",
       " 'MaryWright@gmail.com',\n",
       " 'LisaMitchell@gmail.com',\n",
       " 'MichelleJohnson@gmail.com',\n",
       " 'JohnThomas@gmail.com',\n",
       " 'DanielRodriguez@gmail.com',\n",
       " 'AnthonyLopez@gmail.com',\n",
       " 'PatriciaPerez@gmail.com',\n",
       " 'NancyWilliams@hotmail.com',\n",
       " 'LauraJackson@hotmail.com',\n",
       " 'RobertLewis@hotmail.com',\n",
       " 'PaulHill@hotmail.com',\n",
       " 'KevinRoberts@hotmail.com',\n",
       " 'LindaJones@hotmail.com',\n",
       " 'KarenWhite@hotmail.com',\n",
       " 'SarahLee@hotmail.com',\n",
       " 'MichaelScott@hotmail.com',\n",
       " 'MarkTurner@hotmail.com',\n",
       " 'JasonBrown@aol.com',\n",
       " 'BarbaraHarris@aol.com',\n",
       " 'BettyWalker@aol.com',\n",
       " 'KimberlyGreen@aol.com',\n",
       " 'WilliamPhillips@aol.com',\n",
       " 'DonaldDavis@aol.com',\n",
       " 'JeffMartin@aol.com',\n",
       " 'ElizabethHall@aol.com',\n",
       " 'HelenAdams@aol.com',\n",
       " 'DeborahCampbell@aol.com',\n",
       " 'DavidMiller@yahoo.com',\n",
       " 'GeorgeThompson@yahoo.com',\n",
       " 'JenniferAllen@yahoo.com',\n",
       " 'SandraBaker@yahoo.com',\n",
       " 'RichardParker@yahoo.com',\n",
       " 'KennethWilson@yahoo.com',\n",
       " 'MariaGarcia@yahoo.com',\n",
       " 'DonnaYoung@yahoo.com',\n",
       " 'CharlesGonzalez@yahoo.com',\n",
       " 'StevenEvans@yahoo.com',\n",
       " 'SusanMoore@yahoo.com',\n",
       " 'CarolMartinez@facebook.com',\n",
       " 'JosephHernandez@facebook.com',\n",
       " 'EdwardNelson@facebook.com',\n",
       " 'MargaretEdwards@facebook.com',\n",
       " 'RuthTaylor@facebook.com',\n",
       " 'ThomasRobinson@facebook.com',\n",
       " 'BrianKing@facebook.com',\n",
       " 'DorothyCarter@facebook.com',\n",
       " 'SharonCollins@facebook.com']"
      ]
     },
     "execution_count": 24,
     "metadata": {},
     "output_type": "execute_result"
    }
   ],
   "source": [
    "doc = nlp(text)\n",
    "emails = []\n",
    "for token in doc:\n",
    "    if token.like_email:\n",
    "        emails.append(token.text)\n",
    "emails      "
   ]
  },
  {
   "cell_type": "code",
   "execution_count": 25,
   "metadata": {},
   "outputs": [
    {
     "data": {
      "text/plain": [
       "['virat@kohli.com',\n",
       " 'maria@sharapova.com',\n",
       " 'serena@williams.com',\n",
       " 'joe@root.com',\n",
       " 'ashwal@nmamit.ac',\n",
       " 'joen@nmamit.ac',\n",
       " 'clawn@nitte.edu',\n",
       " 'reema@flagroots.com',\n",
       " 'leesha@root.com',\n",
       " 'harshin@dreams.com',\n",
       " 'dhrvi@nitte.edu',\n",
       " 'jane@nmamit.ac',\n",
       " 'jon@nmamit.ac',\n",
       " 'jonin@nmamit.ac',\n",
       " 'hoen@nmamit.ac',\n",
       " 'ren@nmamit.ac',\n",
       " 'joe@nmamit.ac',\n",
       " 'ChristopherAnderson@gmail.com',\n",
       " 'RonaldClark@gmail.com',\n",
       " 'MaryWright@gmail.com',\n",
       " 'LisaMitchell@gmail.com',\n",
       " 'MichelleJohnson@gmail.com',\n",
       " 'JohnThomas@gmail.com',\n",
       " 'DanielRodriguez@gmail.com',\n",
       " 'AnthonyLopez@gmail.com',\n",
       " 'PatriciaPerez@gmail.com',\n",
       " 'NancyWilliams@hotmail.com',\n",
       " 'LauraJackson@hotmail.com',\n",
       " 'RobertLewis@hotmail.com',\n",
       " 'PaulHill@hotmail.com',\n",
       " 'KevinRoberts@hotmail.com',\n",
       " 'LindaJones@hotmail.com',\n",
       " 'KarenWhite@hotmail.com',\n",
       " 'SarahLee@hotmail.com',\n",
       " 'MichaelScott@hotmail.com',\n",
       " 'MarkTurner@hotmail.com',\n",
       " 'JasonBrown@aol.com',\n",
       " 'BarbaraHarris@aol.com',\n",
       " 'BettyWalker@aol.com',\n",
       " 'KimberlyGreen@aol.com',\n",
       " 'WilliamPhillips@aol.com',\n",
       " 'DonaldDavis@aol.com',\n",
       " 'JeffMartin@aol.com',\n",
       " 'ElizabethHall@aol.com',\n",
       " 'HelenAdams@aol.com',\n",
       " 'DeborahCampbell@aol.com',\n",
       " 'DavidMiller@yahoo.com',\n",
       " 'GeorgeThompson@yahoo.com',\n",
       " 'JenniferAllen@yahoo.com',\n",
       " 'SandraBaker@yahoo.com',\n",
       " 'RichardParker@yahoo.com',\n",
       " 'KennethWilson@yahoo.com',\n",
       " 'MariaGarcia@yahoo.com',\n",
       " 'DonnaYoung@yahoo.com',\n",
       " 'CharlesGonzalez@yahoo.com',\n",
       " 'StevenEvans@yahoo.com',\n",
       " 'SusanMoore@yahoo.com',\n",
       " 'CarolMartinez@facebook.com',\n",
       " 'JosephHernandez@facebook.com',\n",
       " 'EdwardNelson@facebook.com',\n",
       " 'MargaretEdwards@facebook.com',\n",
       " 'RuthTaylor@facebook.com',\n",
       " 'ThomasRobinson@facebook.com',\n",
       " 'BrianKing@facebook.com',\n",
       " 'DorothyCarter@facebook.com',\n",
       " 'SharonCollins@facebook.com']"
      ]
     },
     "execution_count": 25,
     "metadata": {},
     "output_type": "execute_result"
    }
   ],
   "source": [
    "emails = re.findall('[a-zA-Z0-9]+@[a-zA-Z0-9]+\\.[a-z]+', text)\n",
    "emails"
   ]
  },
  {
   "cell_type": "markdown",
   "metadata": {},
   "source": [
    "# 3"
   ]
  },
  {
   "cell_type": "code",
   "execution_count": 31,
   "metadata": {},
   "outputs": [
    {
     "data": {
      "text/html": [
       "<div>\n",
       "<style scoped>\n",
       "    .dataframe tbody tr th:only-of-type {\n",
       "        vertical-align: middle;\n",
       "    }\n",
       "\n",
       "    .dataframe tbody tr th {\n",
       "        vertical-align: top;\n",
       "    }\n",
       "\n",
       "    .dataframe thead th {\n",
       "        text-align: right;\n",
       "    }\n",
       "</style>\n",
       "<table border=\"1\" class=\"dataframe\">\n",
       "  <thead>\n",
       "    <tr style=\"text-align: right;\">\n",
       "      <th></th>\n",
       "      <th>text</th>\n",
       "      <th>spam</th>\n",
       "    </tr>\n",
       "  </thead>\n",
       "  <tbody>\n",
       "    <tr>\n",
       "      <th>0</th>\n",
       "      <td>Subject: naturally it's your irresistible your...</td>\n",
       "      <td>1</td>\n",
       "    </tr>\n",
       "    <tr>\n",
       "      <th>1</th>\n",
       "      <td>Subject: the stock trading gunslinger  fanny i...</td>\n",
       "      <td>1</td>\n",
       "    </tr>\n",
       "    <tr>\n",
       "      <th>2</th>\n",
       "      <td>Subject: unbelievable new homes made easy  im ...</td>\n",
       "      <td>1</td>\n",
       "    </tr>\n",
       "    <tr>\n",
       "      <th>3</th>\n",
       "      <td>Subject: 4 color printing special  request add...</td>\n",
       "      <td>1</td>\n",
       "    </tr>\n",
       "    <tr>\n",
       "      <th>4</th>\n",
       "      <td>Subject: do not have money , get software cds ...</td>\n",
       "      <td>1</td>\n",
       "    </tr>\n",
       "  </tbody>\n",
       "</table>\n",
       "</div>"
      ],
      "text/plain": [
       "                                                text spam\n",
       "0  Subject: naturally it's your irresistible your...    1\n",
       "1  Subject: the stock trading gunslinger  fanny i...    1\n",
       "2  Subject: unbelievable new homes made easy  im ...    1\n",
       "3  Subject: 4 color printing special  request add...    1\n",
       "4  Subject: do not have money , get software cds ...    1"
      ]
     },
     "execution_count": 31,
     "metadata": {},
     "output_type": "execute_result"
    }
   ],
   "source": [
    "import pandas as pd\n",
    "\n",
    "data = pd.read_csv('Resources/emails.csv', usecols = ['text', 'spam'])\n",
    "data.head(5)"
   ]
  },
  {
   "cell_type": "code",
   "execution_count": 34,
   "metadata": {},
   "outputs": [
    {
     "data": {
      "text/html": [
       "<div>\n",
       "<style scoped>\n",
       "    .dataframe tbody tr th:only-of-type {\n",
       "        vertical-align: middle;\n",
       "    }\n",
       "\n",
       "    .dataframe tbody tr th {\n",
       "        vertical-align: top;\n",
       "    }\n",
       "\n",
       "    .dataframe thead th {\n",
       "        text-align: right;\n",
       "    }\n",
       "</style>\n",
       "<table border=\"1\" class=\"dataframe\">\n",
       "  <thead>\n",
       "    <tr style=\"text-align: right;\">\n",
       "      <th></th>\n",
       "      <th>Email Content</th>\n",
       "      <th>Spam Message</th>\n",
       "    </tr>\n",
       "  </thead>\n",
       "  <tbody>\n",
       "    <tr>\n",
       "      <th>0</th>\n",
       "      <td>Subject: naturally it's your irresistible your...</td>\n",
       "      <td>1</td>\n",
       "    </tr>\n",
       "    <tr>\n",
       "      <th>1</th>\n",
       "      <td>Subject: the stock trading gunslinger  fanny i...</td>\n",
       "      <td>1</td>\n",
       "    </tr>\n",
       "    <tr>\n",
       "      <th>2</th>\n",
       "      <td>Subject: unbelievable new homes made easy  im ...</td>\n",
       "      <td>1</td>\n",
       "    </tr>\n",
       "    <tr>\n",
       "      <th>3</th>\n",
       "      <td>Subject: 4 color printing special  request add...</td>\n",
       "      <td>1</td>\n",
       "    </tr>\n",
       "    <tr>\n",
       "      <th>4</th>\n",
       "      <td>Subject: do not have money , get software cds ...</td>\n",
       "      <td>1</td>\n",
       "    </tr>\n",
       "  </tbody>\n",
       "</table>\n",
       "</div>"
      ],
      "text/plain": [
       "                                       Email Content Spam Message\n",
       "0  Subject: naturally it's your irresistible your...            1\n",
       "1  Subject: the stock trading gunslinger  fanny i...            1\n",
       "2  Subject: unbelievable new homes made easy  im ...            1\n",
       "3  Subject: 4 color printing special  request add...            1\n",
       "4  Subject: do not have money , get software cds ...            1"
      ]
     },
     "execution_count": 34,
     "metadata": {},
     "output_type": "execute_result"
    }
   ],
   "source": [
    "maps = {'text':'Email Content', 'spam':'Spam Message'}\n",
    "data.rename(columns = maps, inplace = True)\n",
    "data.head()"
   ]
  },
  {
   "cell_type": "code",
   "execution_count": 35,
   "metadata": {},
   "outputs": [
    {
     "name": "stdout",
     "output_type": "stream",
     "text": [
      "Original Text Subject: naturally it's your irresistible your corporate identity  lt is really hard to recollect a company : the  market is full of suqgestions and the information isoverwhelminq ; but a good  catchy logo , stylish statlonery and outstanding website  will make the task much easier .  we don't promise that havinq ordered a iogo your  company will automaticaily become a world ieader : it isguite ciear that  without good products , effective business organization and practicable aim it  will be hotat nowadays market ; but we do promise that your marketing efforts  will become much more effective . here is the list of clear  benefits : creativeness : hand - made , original logos , specially done  to reflect your distinctive company image . convenience : logo and stationery  are provided in all formats ; easy - to - use content management system letsyou  change your website content and even its structure . promptness : you'll see logo drafts within three business days . affordability : your  marketing break - through shouldn't make gaps in your budget . 100 % satisfaction  guaranteed : we provide unlimited amount of changes with no extra fees for you to  be surethat you will love the result of this collaboration . have a look at our  portfolio _ _ _ _ _ _ _ _ _ _ _ _ _ _ _ _ _ _ _ _ _ _ _ _ _ _ _ _ _ _ _ _ _ _ _ _ _ _ _ _ _ _ _ _ _ _ _ _ _ _ _ _ not interested . . . _ _ _ _ _ _ _ _ _ _ _ _ _ _ _ _ _ _ _ _ _ _ _ _ _ _ _ _ _ _ _ _ _ _ _ _ _ _ _ _ _ _ _ _ _ _ _ _ _ _ _ _\n",
      "Expanded Text\n",
      "Subject: naturally it is your irresistible your corporate identity lt is really hard to recollect a company : the market is full of suqgestions and the information isoverwhelminq ; but a good catchy logo , stylish statlonery and outstanding website will make the task much easier . we do not promise that havinq ordered a iogo your company will automaticaily become a world ieader : it isguite ciear that without good products , effective business organization and practicable aim it will be hotat nowadays market ; but we do promise that your marketing efforts will become much more effective . here is the list of clear benefits : creativeness : hand - made , original logos , specially done to reflect your distinctive company image . convenience : logo and stationery are provided in all formats ; easy - to - use content management system letsyou change your website content and even its structure . promptness : you will see logo drafts within three business days . affordability : your marketing break - through should not make gaps in your budget . 100 % satisfaction guaranteed : we provide unlimited amount of changes with no extra fees for you to be surethat you will love the result of this collaboration . have a look at our portfolio _ _ _ _ _ _ _ _ _ _ _ _ _ _ _ _ _ _ _ _ _ _ _ _ _ _ _ _ _ _ _ _ _ _ _ _ _ _ _ _ _ _ _ _ _ _ _ _ _ _ _ _ not interested . . . _ _ _ _ _ _ _ _ _ _ _ _ _ _ _ _ _ _ _ _ _ _ _ _ _ _ _ _ _ _ _ _ _ _ _ _ _ _ _ _ _ _ _ _ _ _ _ _ _ _ _ _ "
     ]
    }
   ],
   "source": [
    "import contractions\n",
    "\n",
    "text = data['Email Content'][0]\n",
    "print('Original Text', text)\n",
    "print('Expanded Text')\n",
    "for i in text.split():\n",
    "    print(contractions.fix(i), end=' ')"
   ]
  },
  {
   "cell_type": "code",
   "execution_count": 38,
   "metadata": {},
   "outputs": [
    {
     "data": {
      "text/plain": [
       "'subject: 4 color printing special  request additional information now ! click here  click here for a printable version of our order form ( pdf format )  phone : ( 626 ) 338 - 8090 fax : ( 626 ) 338 - 8102 e - mail : ramsey @ goldengraphix . com  request additional information now ! click here  click here for a printable version of our order form ( pdf format )  golden graphix & printing 5110 azusa canyon rd . irwindale , ca 91706 this e - mail message is an advertisement and / or solicitation of games54 and game5s4 . '"
      ]
     },
     "execution_count": 38,
     "metadata": {},
     "output_type": "execute_result"
    }
   ],
   "source": [
    "data['text'] = data['Email Content'].str.lower()\n",
    "data['text'][3]"
   ]
  },
  {
   "cell_type": "code",
   "execution_count": 39,
   "metadata": {},
   "outputs": [
    {
     "data": {
      "text/plain": [
       "'subject 4 color printing special  request additional information now  click here  click here for a printable version of our order form  pdf format   phone   626  338  8090 fax   626  338  8102 e  mail  ramsey  goldengraphix  com  request additional information now  click here  click here for a printable version of our order form  pdf format   golden graphix  printing 5110 azusa canyon rd  irwindale  ca 91706 this e  mail message is an advertisement and  or solicitation of games54 and game5s4  '"
      ]
     },
     "execution_count": 39,
     "metadata": {},
     "output_type": "execute_result"
    }
   ],
   "source": [
    "import re\n",
    "\n",
    "data['text'] = data['text'].apply(lambda x: re.sub(r'[^\\w\\s]','',x))\n",
    "data['text'][3]"
   ]
  },
  {
   "cell_type": "code",
   "execution_count": 40,
   "metadata": {},
   "outputs": [
    {
     "data": {
      "text/plain": [
       "'subject  color printing special  request additional information now  click here  click here for a printable version of our order form  pdf format   phone        fax        e  mail  ramsey  goldengraphix  com  request additional information now  click here  click here for a printable version of our order form  pdf format   golden graphix  printing  azusa canyon rd  irwindale  ca  this e  mail message is an advertisement and  or solicitation of  and   '"
      ]
     },
     "execution_count": 40,
     "metadata": {},
     "output_type": "execute_result"
    }
   ],
   "source": [
    "data['text'] = data['text'].apply(lambda x: re.sub(r'\\w*\\d\\w*','',x))\n",
    "data['text'][3]"
   ]
  },
  {
   "cell_type": "markdown",
   "metadata": {},
   "source": [
    "# 4"
   ]
  },
  {
   "cell_type": "code",
   "execution_count": 41,
   "metadata": {},
   "outputs": [
    {
     "name": "stdout",
     "output_type": "stream",
     "text": [
      "                                                text spam\n",
      "0  Subject: naturally it's your irresistible your...    1\n",
      "1  Subject: the stock trading gunslinger  fanny i...    1\n",
      "2  Subject: unbelievable new homes made easy  im ...    1\n",
      "3  Subject: 4 color printing special  request add...    1\n",
      "4  Subject: do not have money , get software cds ...    1\n"
     ]
    }
   ],
   "source": [
    "import pandas as pd\n",
    "\n",
    "data = pd.read_csv('Resources/emails.csv', usecols = ['text', 'spam'])\n",
    "print(data.head())"
   ]
  },
  {
   "cell_type": "code",
   "execution_count": null,
   "metadata": {},
   "outputs": [],
   "source": [
    "import spacy\n",
    "\n",
    "nlp = spcay.load('en_core_web_sm')\n"
   ]
  }
 ],
 "metadata": {
  "kernelspec": {
   "display_name": "Python 3",
   "language": "python",
   "name": "python3"
  },
  "language_info": {
   "codemirror_mode": {
    "name": "ipython",
    "version": 3
   },
   "file_extension": ".py",
   "mimetype": "text/x-python",
   "name": "python",
   "nbconvert_exporter": "python",
   "pygments_lexer": "ipython3",
   "version": "3.10.14"
  }
 },
 "nbformat": 4,
 "nbformat_minor": 2
}
