{
 "cells": [
  {
   "cell_type": "markdown",
   "id": "03238953-8777-43da-8242-5b7824871163",
   "metadata": {},
   "source": [
    "# Get minimum edit distance"
   ]
  },
  {
   "cell_type": "markdown",
   "id": "8c882596-30e6-4e6a-a3db-b8b719d0f52b",
   "metadata": {},
   "source": [
    "## Using user defined function"
   ]
  },
  {
   "cell_type": "code",
   "execution_count": 1,
   "id": "8ca316bc-d0a5-4e1d-84ec-f6bfb25b8530",
   "metadata": {},
   "outputs": [],
   "source": [
    "def min_edit_distance(str1, str2):\n",
    "    m, n = len(str1), len(str2)\n",
    "    matrix = [[0 for i in range(n+1)] for i in range(m+1)]\n",
    "    for i in range(m+1):\n",
    "        for j in range(n+1):\n",
    "            if i==0:\n",
    "                matrix[i][j] = j\n",
    "            elif j==0:\n",
    "                matrix[i][j] = i\n",
    "            elif str1[i-1] == str2[j-1]:\n",
    "                matrix[i][j] = matrix[i-1][j-1]\n",
    "            else:\n",
    "                matrix[i][j] = 1+min(matrix[i][j-1], matrix[i-1][j], matrix[i-1][j-1])\n",
    "    return matrix[m][n]"
   ]
  },
  {
   "cell_type": "code",
   "execution_count": 2,
   "id": "9c5c0175-9201-48d0-84b7-9bed2bed06a5",
   "metadata": {},
   "outputs": [
    {
     "data": {
      "text/plain": [
       "6"
      ]
     },
     "execution_count": 2,
     "metadata": {},
     "output_type": "execute_result"
    }
   ],
   "source": [
    "min_edit_distance('TsarBomba', 'NuclearBomb')"
   ]
  },
  {
   "cell_type": "markdown",
   "id": "31dd7ef8-ca10-46c3-b091-f19ad99df4bc",
   "metadata": {},
   "source": [
    "## Using Built-In Functions"
   ]
  },
  {
   "cell_type": "code",
   "execution_count": 3,
   "id": "048890f6-f7e9-432a-8def-458a09d9255b",
   "metadata": {},
   "outputs": [
    {
     "data": {
      "text/plain": [
       "6"
      ]
     },
     "execution_count": 3,
     "metadata": {},
     "output_type": "execute_result"
    }
   ],
   "source": [
    "import editdistance\n",
    "editdistance.eval('TsarBomba', 'NuclearBomb')"
   ]
  },
  {
   "cell_type": "code",
   "execution_count": null,
   "id": "a1a15618-1830-492b-890e-41371142f5ec",
   "metadata": {},
   "outputs": [],
   "source": []
  }
 ],
 "metadata": {
  "kernelspec": {
   "display_name": "Python 3 (ipykernel)",
   "language": "python",
   "name": "python3"
  },
  "language_info": {
   "codemirror_mode": {
    "name": "ipython",
    "version": 3
   },
   "file_extension": ".py",
   "mimetype": "text/x-python",
   "name": "python",
   "nbconvert_exporter": "python",
   "pygments_lexer": "ipython3",
   "version": "3.11.5"
  }
 },
 "nbformat": 4,
 "nbformat_minor": 5
}
