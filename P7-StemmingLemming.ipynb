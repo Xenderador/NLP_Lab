{
 "cells": [
  {
   "cell_type": "markdown",
   "id": "e170c7fe-7a63-4c9b-8b2a-3785b4b837f4",
   "metadata": {},
   "source": [
    "# Perform Stemming Lemming on text"
   ]
  },
  {
   "cell_type": "code",
   "execution_count": null,
   "id": "52b93c58-f2ef-4532-a367-9d0cb44f21b5",
   "metadata": {},
   "outputs": [],
   "source": [
    "with open('Resources/StemLem.txt') as f:\n",
    "    text = f.readlines()\n",
    "    text = \" \".join(text)\n",
    "    print(text)"
   ]
  },
  {
   "cell_type": "code",
   "execution_count": null,
   "id": "b441ab6e-3da4-4a8d-b10c-6ed8a367e574",
   "metadata": {},
   "outputs": [],
   "source": [
    "import nltk\n",
    "nltk.download('punkt')\n",
    "from nltk.tokenize import word_tokenize\n",
    "token = word_tokenize(text)"
   ]
  },
  {
   "cell_type": "markdown",
   "id": "b3c76aad-83c3-4e64-abd1-5e0b0a567e1e",
   "metadata": {},
   "source": [
    "## Stemming \n",
    "Various Stemmers include:\n",
    "1. PorterStemmer\n",
    "2. SnowballStemmer\n",
    "3. LancasterStemmer\n"
   ]
  },
  {
   "cell_type": "code",
   "execution_count": null,
   "id": "85bb9cbf-a402-4fda-bd62-3d6bf0d35d16",
   "metadata": {},
   "outputs": [],
   "source": [
    "# PorterStemmer\n",
    "from nltk.stem.porter import PorterStemmer\n",
    "st = PorterStemmer()\n",
    "for t in token:\n",
    "    print(t, \" -----> \"+st.stem(t)) "
   ]
  },
  {
   "cell_type": "code",
   "execution_count": null,
   "id": "d37b87e3-b1bd-4e08-8e56-06720dd71055",
   "metadata": {},
   "outputs": [],
   "source": [
    "#Snowball Stemmer\n",
    "from nltk.stem.snowball import SnowballStemmer\n",
    "sw = SnowballStemmer('english')\n",
    "for t in token:\n",
    "    print(t, \" -----> \"+sw.stem(t))"
   ]
  },
  {
   "cell_type": "code",
   "execution_count": null,
   "id": "dc303fcf-feca-493c-8f4d-992a4c5db7ba",
   "metadata": {},
   "outputs": [],
   "source": [
    "#Lancaster Stemmer\n",
    "from nltk.stem.lancaster import LancasterStemmer\n",
    "ls = LancasterStemmer()\n",
    "for t in token:\n",
    "    print(t, \" -----> \"+ls.stem(t))"
   ]
  },
  {
   "cell_type": "markdown",
   "id": "69033730-17e1-4e04-8a5e-5336f67da150",
   "metadata": {},
   "source": [
    "## Lemmatization\n",
    "We've got the following ways to perform lemmatization\n",
    "1. Spacy Lemmatizer\n",
    "2. Wordnet Lemmatizer\n",
    "3. TextBlob Lemmatizer\n",
    "4. Pattern Lemmatizer"
   ]
  },
  {
   "cell_type": "markdown",
   "id": "cc09705e-c2a4-43aa-88d4-32e976a9bd86",
   "metadata": {},
   "source": [
    "### Spacy Lemmatizer"
   ]
  },
  {
   "cell_type": "code",
   "execution_count": null,
   "id": "7c70e1b9-6e1f-44fa-91ea-6f2c4c9a375c",
   "metadata": {},
   "outputs": [],
   "source": [
    "import spacy\n",
    "nlp = spacy.load('en_core_web_sm')\n",
    "doc = nlp(text)\n",
    "for i in doc:\n",
    "    print(i, ' -----> '+i.lemma_)"
   ]
  },
  {
   "cell_type": "markdown",
   "id": "c4909687-1440-4a6f-896c-7affb2a8c172",
   "metadata": {},
   "source": [
    "### WordNet(NTLK) Lemmatizer"
   ]
  },
  {
   "cell_type": "code",
   "execution_count": null,
   "id": "c27a9fff-050e-44ce-968a-e00bfdf77d19",
   "metadata": {},
   "outputs": [],
   "source": [
    "import nltk\n",
    "nltk.download('wordnet')\n",
    "from nltk.stem import WordNetLemmatizer"
   ]
  },
  {
   "cell_type": "code",
   "execution_count": null,
   "id": "537eb209-58c2-4927-80e2-1725f2b76582",
   "metadata": {},
   "outputs": [],
   "source": [
    "wl = WordNetLemmatizer()\n",
    "for t in token:\n",
    "    print(t, \" -----> \"+wl.lemmatize(t))"
   ]
  },
  {
   "cell_type": "markdown",
   "id": "63f77433-5af2-42ca-90af-c7f0942456b0",
   "metadata": {},
   "source": [
    "### TextBlob Lemmatizer"
   ]
  },
  {
   "cell_type": "code",
   "execution_count": null,
   "id": "7d9951d9-c760-4f0f-b9df-7f0d00a82dbb",
   "metadata": {},
   "outputs": [],
   "source": [
    "from textblob import TextBlob\n",
    "blob = TextBlob(text)\n",
    "for i in blob.words:\n",
    "    print(i, ' -----> '+i.lemmatize())"
   ]
  },
  {
   "cell_type": "markdown",
   "id": "1e21fefd-1cb1-4cd0-af5e-859291613ad1",
   "metadata": {},
   "source": [
    "### PatternLemmatizer"
   ]
  },
  {
   "cell_type": "code",
   "execution_count": null,
   "id": "dd1e7287-aa0d-4d3a-ae9f-ec0f97d49530",
   "metadata": {},
   "outputs": [],
   "source": [
    "from pattern.en import lemma, lexeme, parse\n",
    "sentence = \"the bats saw the cats with best stripes hanging upside down by their feet\"\n",
    "lemmatized_sentence = \" \".join([lemma(word) for word in sentence.split()])\n",
    "\n",
    "lexeme_of_words = [lexeme(word) for word in sentence.split()]\n",
    "print(lemmatized_sentence)\n",
    "print(lexeme_of_words)"
   ]
  },
  {
   "cell_type": "code",
   "execution_count": null,
   "id": "50a3e092-a72f-443e-807c-c75b2f7a9ab1",
   "metadata": {},
   "outputs": [],
   "source": []
  }
 ],
 "metadata": {
  "kernelspec": {
   "display_name": "Python 3 (ipykernel)",
   "language": "python",
   "name": "python3"
  },
  "language_info": {
   "codemirror_mode": {
    "name": "ipython",
    "version": 3
   },
   "file_extension": ".py",
   "mimetype": "text/x-python",
   "name": "python",
   "nbconvert_exporter": "python",
   "pygments_lexer": "ipython3",
   "version": "3.11.5"
  }
 },
 "nbformat": 4,
 "nbformat_minor": 5
}
