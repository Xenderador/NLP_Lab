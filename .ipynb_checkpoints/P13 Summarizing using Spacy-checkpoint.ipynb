{
 "cells": [
  {
   "cell_type": "markdown",
   "id": "57a617d1-b2f6-4307-93d1-453fd92d860a",
   "metadata": {},
   "source": [
    "# Demonstrate text summarization on the given input file summary.txt by performing following operations usif spacy library:\n",
    "- Display the content of summary.txt\n",
    "- Print word with it's frequency ti the give text file.\n",
    "- Display maximum frequency of word in the given text file.\n",
    "- Normalization\n",
    "- Find out sentence score\n",
    "- Summarize 30% of the sentence with maximum score"
   ]
  },
  {
   "cell_type": "code",
   "execution_count": 1,
   "id": "dc24f356-2cdc-4c13-9406-04802d1beef9",
   "metadata": {},
   "outputs": [
    {
     "data": {
      "text/plain": [
       "'We have often heard that \\x91Cricket is religion in India and Sachin is God\\x92. There is no better statement that can justify the status of Sachin Tendulkar in India. Sachin Tendulkar in India is not just a cricketer, he is God. Also for common people in India, he is an example of hard work and determination. Thus, he is worshipped by everyone in India. The essay on Sachin Tendulkar is a small insight into one of the greatest ever sportsman to have played any game.Sachin Tendulkar was born to a middle-class family and came to limelight with a performance in the school tournament. He held a record partnership at that time with Vinod Kambli playing for their school tournament. That innings changed Sachin\\x92s life completely and he became famous in a fortnight. In those days, the school tournaments had a different fanbase and a good performance can bring you in limelight. Because of that inning, people all over India came to know who Sachin Tendulkar was! Thus, it also caught Indian selector\\x92s eye and Sachin Tendulkar was selected for the tour of Pakistan at an age of 16.'"
      ]
     },
     "execution_count": 1,
     "metadata": {},
     "output_type": "execute_result"
    }
   ],
   "source": [
    "with open('./Resources/summary.txt', encoding='latin') as f:\n",
    "    text = f.readlines()\n",
    "\n",
    "text = \"\".join(text)\n",
    "text"
   ]
  },
  {
   "cell_type": "code",
   "execution_count": 2,
   "id": "aabb9692-3ff2-452c-a4f5-4ce78883ceee",
   "metadata": {},
   "outputs": [],
   "source": [
    "text = text.replace(\"\\x91\", \"'\")\n",
    "text = text.replace(\"\\x92\", \"'\")"
   ]
  },
  {
   "cell_type": "code",
   "execution_count": 3,
   "id": "27596eba-cf44-4e17-9aa8-7035f29bc076",
   "metadata": {},
   "outputs": [],
   "source": [
    "import spacy\n",
    "from spacy.lang.en.stop_words import STOP_WORDS\n",
    "from string import punctuation"
   ]
  },
  {
   "cell_type": "code",
   "execution_count": 4,
   "id": "35610ae2-1c76-41b2-a272-a86bf96170af",
   "metadata": {},
   "outputs": [
    {
     "name": "stderr",
     "output_type": "stream",
     "text": [
      "/opt/anaconda3/envs/NLP/lib/python3.11/site-packages/spacy/util.py:910: UserWarning: [W095] Model 'en_core_web_sm' (3.5.0) was trained with spaCy v3.5.0 and may not be 100% compatible with the current version (3.7.4). If you see errors or degraded performance, download a newer compatible model or retrain your custom model with the current spaCy version. For more details and available updates, run: python -m spacy validate\n",
      "  warnings.warn(warn_msg)\n"
     ]
    }
   ],
   "source": [
    "nlp = spacy.load(\"en_core_web_sm\")\n",
    "doc = nlp(text)"
   ]
  },
  {
   "cell_type": "code",
   "execution_count": 5,
   "id": "38037f34-6213-4cce-b2c4-5e3b7b30d468",
   "metadata": {},
   "outputs": [
    {
     "data": {
      "text/plain": [
       "{'heard': 1,\n",
       " 'cricket': 1,\n",
       " 'religion': 1,\n",
       " 'india': 6,\n",
       " 'sachin': 8,\n",
       " 'god': 2,\n",
       " 'better': 1,\n",
       " 'statement': 1,\n",
       " 'justify': 1,\n",
       " 'status': 1,\n",
       " 'tendulkar': 6,\n",
       " 'cricketer': 1,\n",
       " 'common': 1,\n",
       " 'people': 2,\n",
       " 'example': 1,\n",
       " 'hard': 1,\n",
       " 'work': 1,\n",
       " 'determination': 1,\n",
       " 'worshipped': 1,\n",
       " 'essay': 1,\n",
       " 'small': 1,\n",
       " 'insight': 1,\n",
       " 'greatest': 1,\n",
       " 'sportsman': 1,\n",
       " 'played': 1,\n",
       " 'game': 1,\n",
       " 'born': 1,\n",
       " 'middle': 1,\n",
       " 'class': 1,\n",
       " 'family': 1,\n",
       " 'came': 2,\n",
       " 'limelight': 2,\n",
       " 'performance': 2,\n",
       " 'school': 3,\n",
       " 'tournament': 2,\n",
       " 'held': 1,\n",
       " 'record': 1,\n",
       " 'partnership': 1,\n",
       " 'time': 1,\n",
       " 'vinod': 1,\n",
       " 'kambli': 1,\n",
       " 'playing': 1,\n",
       " 'innings': 1,\n",
       " 'changed': 1,\n",
       " 'life': 1,\n",
       " 'completely': 1,\n",
       " 'famous': 1,\n",
       " 'fortnight': 1,\n",
       " 'days': 1,\n",
       " 'tournaments': 1,\n",
       " 'different': 1,\n",
       " 'fanbase': 1,\n",
       " 'good': 1,\n",
       " 'bring': 1,\n",
       " 'inning': 1,\n",
       " 'know': 1,\n",
       " 'caught': 1,\n",
       " 'indian': 1,\n",
       " 'selector': 1,\n",
       " 'eye': 1,\n",
       " 'selected': 1,\n",
       " 'tour': 1,\n",
       " 'pakistan': 1,\n",
       " 'age': 1,\n",
       " '16': 1}"
      ]
     },
     "execution_count": 5,
     "metadata": {},
     "output_type": "execute_result"
    }
   ],
   "source": [
    "dtc = {}\n",
    "for i in doc:\n",
    "    dtc[i.text.lower()] = 0\n",
    "for i in doc:\n",
    "    dtc[i.text.lower()] += 1\n",
    "\n",
    "sw = STOP_WORDS\n",
    "dtc = {i:v for i, v in dtc.items() if i not in sw and i not in punctuation}\n",
    "dtc"
   ]
  },
  {
   "cell_type": "code",
   "execution_count": 6,
   "id": "d1a84767-f96b-4a34-8948-8152c33c8e86",
   "metadata": {},
   "outputs": [
    {
     "name": "stdout",
     "output_type": "stream",
     "text": [
      "Max:  8\n"
     ]
    }
   ],
   "source": [
    "max_freq = sorted(dtc.items(), key=lambda  x:x[1], reverse=True)[0][1]\n",
    "print(\"Max: \", max_freq)"
   ]
  },
  {
   "cell_type": "markdown",
   "id": "7c13ebd5-de77-43a4-b106-4f755c03edc1",
   "metadata": {},
   "source": [
    "## Normalization"
   ]
  },
  {
   "cell_type": "code",
   "execution_count": 7,
   "id": "357c2c3c-2cf2-40e4-9bb6-56355ebdf881",
   "metadata": {},
   "outputs": [
    {
     "data": {
      "text/plain": [
       "{'heard': 0.125,\n",
       " 'cricket': 0.125,\n",
       " 'religion': 0.125,\n",
       " 'india': 0.75,\n",
       " 'sachin': 1.0,\n",
       " 'god': 0.25,\n",
       " 'better': 0.125,\n",
       " 'statement': 0.125,\n",
       " 'justify': 0.125,\n",
       " 'status': 0.125,\n",
       " 'tendulkar': 0.75,\n",
       " 'cricketer': 0.125,\n",
       " 'common': 0.125,\n",
       " 'people': 0.25,\n",
       " 'example': 0.125,\n",
       " 'hard': 0.125,\n",
       " 'work': 0.125,\n",
       " 'determination': 0.125,\n",
       " 'worshipped': 0.125,\n",
       " 'essay': 0.125,\n",
       " 'small': 0.125,\n",
       " 'insight': 0.125,\n",
       " 'greatest': 0.125,\n",
       " 'sportsman': 0.125,\n",
       " 'played': 0.125,\n",
       " 'game': 0.125,\n",
       " 'born': 0.125,\n",
       " 'middle': 0.125,\n",
       " 'class': 0.125,\n",
       " 'family': 0.125,\n",
       " 'came': 0.25,\n",
       " 'limelight': 0.25,\n",
       " 'performance': 0.25,\n",
       " 'school': 0.375,\n",
       " 'tournament': 0.25,\n",
       " 'held': 0.125,\n",
       " 'record': 0.125,\n",
       " 'partnership': 0.125,\n",
       " 'time': 0.125,\n",
       " 'vinod': 0.125,\n",
       " 'kambli': 0.125,\n",
       " 'playing': 0.125,\n",
       " 'innings': 0.125,\n",
       " 'changed': 0.125,\n",
       " 'life': 0.125,\n",
       " 'completely': 0.125,\n",
       " 'famous': 0.125,\n",
       " 'fortnight': 0.125,\n",
       " 'days': 0.125,\n",
       " 'tournaments': 0.125,\n",
       " 'different': 0.125,\n",
       " 'fanbase': 0.125,\n",
       " 'good': 0.125,\n",
       " 'bring': 0.125,\n",
       " 'inning': 0.125,\n",
       " 'know': 0.125,\n",
       " 'caught': 0.125,\n",
       " 'indian': 0.125,\n",
       " 'selector': 0.125,\n",
       " 'eye': 0.125,\n",
       " 'selected': 0.125,\n",
       " 'tour': 0.125,\n",
       " 'pakistan': 0.125,\n",
       " 'age': 0.125,\n",
       " '16': 0.125}"
      ]
     },
     "execution_count": 7,
     "metadata": {},
     "output_type": "execute_result"
    }
   ],
   "source": [
    "for i in dtc.keys():\n",
    "    dtc[i] /= max_freq\n",
    "dtc"
   ]
  },
  {
   "cell_type": "markdown",
   "id": "97236536-c7ef-4115-aaf5-c5abc8474d48",
   "metadata": {},
   "source": [
    "## Sentence Score"
   ]
  },
  {
   "cell_type": "code",
   "execution_count": 8,
   "id": "051aa313-4e98-4fcc-8ca0-e6b416fc95a6",
   "metadata": {},
   "outputs": [
    {
     "data": {
      "text/plain": [
       "[We have often heard that 'Cricket is religion in India and Sachin is God'.,\n",
       " There is no better statement that can justify the status of Sachin Tendulkar in India.,\n",
       " Sachin Tendulkar in India is not just a cricketer, he is God.,\n",
       " Also for common people in India, he is an example of hard work and determination.,\n",
       " Thus, he is worshipped by everyone in India.,\n",
       " The essay on Sachin Tendulkar is a small insight into one of the greatest ever sportsman to have played any game.,\n",
       " Sachin Tendulkar was born to a middle-class family and came to limelight with a performance in the school tournament.,\n",
       " He held a record partnership at that time with Vinod Kambli playing for their school tournament.,\n",
       " That innings changed Sachin's life completely and he became famous in a fortnight.,\n",
       " In those days, the school tournaments had a different fanbase and a good performance can bring you in limelight.,\n",
       " Because of that inning, people all over India came to know who Sachin Tendulkar was!,\n",
       " Thus, it also caught Indian selector's eye and Sachin Tendulkar was selected for the tour of Pakistan at an age of 16.]"
      ]
     },
     "execution_count": 8,
     "metadata": {},
     "output_type": "execute_result"
    }
   ],
   "source": [
    "sents = [i for i in doc.sents]\n",
    "sents"
   ]
  },
  {
   "cell_type": "code",
   "execution_count": 9,
   "id": "2383eb37-55a9-41ab-8036-a49f6e78f738",
   "metadata": {},
   "outputs": [],
   "source": [
    "score = {}\n",
    "for sent in sents:\n",
    "    score[sent] = 0\n",
    "for sent in sents:\n",
    "    for word in sent:\n",
    "        if word.text in dtc.keys():\n",
    "            score[sent]+=dtc[word.text]\n"
   ]
  },
  {
   "cell_type": "code",
   "execution_count": 10,
   "id": "853821a7-5946-46b5-b4b6-3901d9492756",
   "metadata": {},
   "outputs": [
    {
     "data": {
      "text/plain": [
       "{We have often heard that 'Cricket is religion in India and Sachin is God'.: 0.25,\n",
       " There is no better statement that can justify the status of Sachin Tendulkar in India.: 0.5,\n",
       " Sachin Tendulkar in India is not just a cricketer, he is God.: 0.125,\n",
       " Also for common people in India, he is an example of hard work and determination.: 0.875,\n",
       " Thus, he is worshipped by everyone in India.: 0.125,\n",
       " The essay on Sachin Tendulkar is a small insight into one of the greatest ever sportsman to have played any game.: 0.875,\n",
       " Sachin Tendulkar was born to a middle-class family and came to limelight with a performance in the school tournament.: 1.875,\n",
       " He held a record partnership at that time with Vinod Kambli playing for their school tournament.: 1.25,\n",
       " That innings changed Sachin's life completely and he became famous in a fortnight.: 0.75,\n",
       " In those days, the school tournaments had a different fanbase and a good performance can bring you in limelight.: 1.625,\n",
       " Because of that inning, people all over India came to know who Sachin Tendulkar was!: 0.75,\n",
       " Thus, it also caught Indian selector's eye and Sachin Tendulkar was selected for the tour of Pakistan at an age of 16.: 0.875}"
      ]
     },
     "execution_count": 10,
     "metadata": {},
     "output_type": "execute_result"
    }
   ],
   "source": [
    "score "
   ]
  },
  {
   "cell_type": "code",
   "execution_count": 11,
   "id": "c70e243f-3918-4df2-9386-0ed6fbacc0ce",
   "metadata": {},
   "outputs": [
    {
     "data": {
      "text/plain": [
       "3.5999999999999996"
      ]
     },
     "execution_count": 11,
     "metadata": {},
     "output_type": "execute_result"
    }
   ],
   "source": [
    "from heapq import nlargest\n",
    "len(score)*.3"
   ]
  },
  {
   "cell_type": "code",
   "execution_count": 12,
   "id": "717346f8-1392-4498-8663-6dc3dcdd4f31",
   "metadata": {},
   "outputs": [
    {
     "name": "stdout",
     "output_type": "stream",
     "text": [
      "Summary Document: [Sachin Tendulkar was born to a middle-class family and came to limelight with a performance in the school tournament., In those days, the school tournaments had a different fanbase and a good performance can bring you in limelight., He held a record partnership at that time with Vinod Kambli playing for their school tournament., Also for common people in India, he is an example of hard work and determination.]\n"
     ]
    }
   ],
   "source": [
    "summary=nlargest(n=round(len(score)*.3),iterable=score, key=score.get)\n",
    "print(\"Summary Document:\",summary)"
   ]
  },
  {
   "cell_type": "code",
   "execution_count": null,
   "id": "bd9f6503-d76b-4762-8d9f-41bff22bde80",
   "metadata": {},
   "outputs": [],
   "source": []
  }
 ],
 "metadata": {
  "kernelspec": {
   "display_name": "Python 3 (ipykernel)",
   "language": "python",
   "name": "python3"
  },
  "language_info": {
   "codemirror_mode": {
    "name": "ipython",
    "version": 3
   },
   "file_extension": ".py",
   "mimetype": "text/x-python",
   "name": "python",
   "nbconvert_exporter": "python",
   "pygments_lexer": "ipython3",
   "version": "3.11.5"
  }
 },
 "nbformat": 4,
 "nbformat_minor": 5
}
