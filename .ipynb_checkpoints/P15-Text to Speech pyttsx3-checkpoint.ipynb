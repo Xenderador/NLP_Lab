{
 "cells": [
  {
   "cell_type": "markdown",
   "id": "967541bb-58d6-43b8-a207-27cabd58988c",
   "metadata": {},
   "source": [
    "# Speech to Text and Text to Speech"
   ]
  },
  {
   "cell_type": "code",
   "execution_count": null,
   "id": "75e1d202-00e3-4560-b724-de7b4acfcebb",
   "metadata": {},
   "outputs": [],
   "source": [
    "!pip install pyttsx3"
   ]
  },
  {
   "cell_type": "code",
   "execution_count": null,
   "id": "338eb754-2fc2-421b-9fd0-bcceb8d66d0c",
   "metadata": {},
   "outputs": [],
   "source": [
    "!pip install SpeechRecognition"
   ]
  },
  {
   "cell_type": "code",
   "execution_count": null,
   "id": "d94ff717-dbf1-4bf2-a888-282048bd118b",
   "metadata": {},
   "outputs": [],
   "source": [
    "!pip install pyaudio"
   ]
  },
  {
   "cell_type": "code",
   "execution_count": null,
   "id": "90d5d496-4717-4e7c-b99e-95d4a25cd5c3",
   "metadata": {},
   "outputs": [],
   "source": [
    "!pip install pocketsphinx"
   ]
  },
  {
   "cell_type": "code",
   "execution_count": 1,
   "id": "88cab04e-3c8a-4b08-917f-51f21e6b897b",
   "metadata": {},
   "outputs": [],
   "source": [
    "import pyttsx3\n",
    "import speech_recognition as sr"
   ]
  },
  {
   "cell_type": "markdown",
   "id": "cf9fb08a-8ed4-4405-8a30-55adee7d843f",
   "metadata": {},
   "source": [
    "## Text To Speech"
   ]
  },
  {
   "cell_type": "code",
   "execution_count": 2,
   "id": "a99001b3-b50e-4b69-9740-d4f800d60122",
   "metadata": {},
   "outputs": [],
   "source": [
    "def tts(text):\n",
    "    engine = pyttsx3.init()\n",
    "    engine.say(text)\n",
    "    engine.runAndWait()"
   ]
  },
  {
   "cell_type": "code",
   "execution_count": null,
   "id": "7a002153-f4eb-49cf-a0a6-16f6cadd770e",
   "metadata": {},
   "outputs": [],
   "source": [
    "text ='''Natural Language Processing (NLP) is a branch of artificial intelligence that deals with the interaction between computers\n",
    "and humans using natural languages. The goal of NLP is to enable computers to understand, interpret, and generate human language in a manner\n",
    "that is valuable and effective.'''\n",
    "\n",
    "tts(text)"
   ]
  },
  {
   "cell_type": "markdown",
   "id": "baa04204-4859-48f3-bd51-866480d75307",
   "metadata": {},
   "source": [
    "## Speech To Text"
   ]
  },
  {
   "cell_type": "code",
   "execution_count": 4,
   "id": "0ecc477b-bdad-4960-a9a7-7a3ae53f2496",
   "metadata": {},
   "outputs": [],
   "source": [
    "def stt(audio_file):\n",
    "    recognizer = sr.Recognizer()\n",
    "    with sr.AudioFile(audio_file) as source:\n",
    "        audio = recognizer.record(source)\n",
    "        try:\n",
    "            text=recognizer.recognize_sphinx(audio)\n",
    "            print(f\"Transcribed Text:\\n {text}\")\n",
    "        except e:\n",
    "            print(\"Doesnt work\")\n",
    "            "
   ]
  },
  {
   "cell_type": "code",
   "execution_count": 5,
   "id": "ba91ef71-002b-4ed2-8829-00eed45d027d",
   "metadata": {},
   "outputs": [
    {
     "name": "stdout",
     "output_type": "stream",
     "text": [
      "Transcribed Text:\n",
      " the apollo missions were in there and success the apollo missions or a daring success to coney the apollo missions for a daring success won't this one to get out and while we're better welcome to our last generation will go on till they are most duration welcome to our newest generation\n"
     ]
    }
   ],
   "source": [
    "stt(\"./Resources/Speech.wav\")"
   ]
  }
 ],
 "metadata": {
  "kernelspec": {
   "display_name": "Python 3 (ipykernel)",
   "language": "python",
   "name": "python3"
  },
  "language_info": {
   "codemirror_mode": {
    "name": "ipython",
    "version": 3
   },
   "file_extension": ".py",
   "mimetype": "text/x-python",
   "name": "python",
   "nbconvert_exporter": "python",
   "pygments_lexer": "ipython3",
   "version": "3.11.5"
  }
 },
 "nbformat": 4,
 "nbformat_minor": 5
}
