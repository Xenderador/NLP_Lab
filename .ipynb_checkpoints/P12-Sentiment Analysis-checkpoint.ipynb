{
 "cells": [
  {
   "cell_type": "markdown",
   "id": "3fd7c6c0-ccef-4bcf-a9d6-c3eaf1b3aa71",
   "metadata": {},
   "source": [
    "# Performing Sentiment Analysis\n",
    "Using transformers"
   ]
  },
  {
   "cell_type": "code",
   "execution_count": 2,
   "id": "c8f095b2-5600-4357-8adc-28712d8d32f3",
   "metadata": {},
   "outputs": [
    {
     "name": "stderr",
     "output_type": "stream",
     "text": [
      "/opt/anaconda3/envs/NLP/lib/python3.11/site-packages/tqdm/auto.py:21: TqdmWarning: IProgress not found. Please update jupyter and ipywidgets. See https://ipywidgets.readthedocs.io/en/stable/user_install.html\n",
      "  from .autonotebook import tqdm as notebook_tqdm\n",
      "No model was supplied, defaulted to distilbert/distilbert-base-uncased-finetuned-sst-2-english and revision af0f99b (https://huggingface.co/distilbert/distilbert-base-uncased-finetuned-sst-2-english).\n",
      "Using a pipeline without specifying a model name and revision in production is not recommended.\n",
      "/opt/anaconda3/envs/NLP/lib/python3.11/site-packages/huggingface_hub/file_download.py:1132: FutureWarning: `resume_download` is deprecated and will be removed in version 1.0.0. Downloads always resume when possible. If you want to force a new download, use `force_download=True`.\n",
      "  warnings.warn(\n",
      "All PyTorch model weights were used when initializing TFDistilBertForSequenceClassification.\n",
      "\n",
      "All the weights of TFDistilBertForSequenceClassification were initialized from the PyTorch model.\n",
      "If your task is similar to the task the model of the checkpoint was trained on, you can already use TFDistilBertForSequenceClassification for predictions without further training.\n"
     ]
    }
   ],
   "source": [
    "from transformers import pipeline\n",
    "classifier = pipeline('sentiment-analysis')"
   ]
  },
  {
   "cell_type": "code",
   "execution_count": 3,
   "id": "a27a1f98-db5b-40bd-8e6d-89c3dacdc5d8",
   "metadata": {},
   "outputs": [],
   "source": [
    "sentences = [\"We are very happy to  show you the transformers library.\", \"The Pizza was not that great but crust was awesome\", \"The pizza was bad\", \"The pizza was mid\", \" We hope you don't hate it.\", \"I hope you will llove to join the NLP class\"]"
   ]
  },
  {
   "cell_type": "markdown",
   "id": "a1cd3ffc-7c54-47a4-834e-b8a60f3a4bb2",
   "metadata": {},
   "source": [
    "## General Use"
   ]
  },
  {
   "cell_type": "code",
   "execution_count": 4,
   "id": "b019bea7-639f-48bb-874c-9be2c4950e9b",
   "metadata": {},
   "outputs": [
    {
     "data": {
      "text/plain": [
       "[{'label': 'POSITIVE', 'score': 0.9997994303703308}]"
      ]
     },
     "execution_count": 4,
     "metadata": {},
     "output_type": "execute_result"
    }
   ],
   "source": [
    "classifier(sentences[0])"
   ]
  },
  {
   "cell_type": "code",
   "execution_count": 5,
   "id": "26c67e00-5b74-4a60-a8c0-e4430a94d10e",
   "metadata": {},
   "outputs": [
    {
     "name": "stdout",
     "output_type": "stream",
     "text": [
      "{'label': 'POSITIVE', 'score': 0.9997994303703308}\n",
      "{'label': 'POSITIVE', 'score': 0.9997007846832275}\n",
      "{'label': 'NEGATIVE', 'score': 0.9997655749320984}\n",
      "{'label': 'NEGATIVE', 'score': 0.9956613183021545}\n",
      "{'label': 'NEGATIVE', 'score': 0.5308613181114197}\n",
      "{'label': 'POSITIVE', 'score': 0.9989998936653137}\n"
     ]
    }
   ],
   "source": [
    "results = classifier(sentences)\n",
    "for result in results:\n",
    "    print(result)"
   ]
  },
  {
   "cell_type": "markdown",
   "id": "e65c96b9-4474-43b2-8942-bcb6b7391119",
   "metadata": {},
   "source": [
    "## Fine Tuned Model"
   ]
  },
  {
   "cell_type": "code",
   "execution_count": 6,
   "id": "637d8458-9722-4bd1-84f7-c789b7c45949",
   "metadata": {},
   "outputs": [
    {
     "name": "stderr",
     "output_type": "stream",
     "text": [
      "Some layers from the model checkpoint at nlptown/bert-base-multilingual-uncased-sentiment were not used when initializing TFBertForSequenceClassification: ['dropout_37']\n",
      "- This IS expected if you are initializing TFBertForSequenceClassification from the checkpoint of a model trained on another task or with another architecture (e.g. initializing a BertForSequenceClassification model from a BertForPreTraining model).\n",
      "- This IS NOT expected if you are initializing TFBertForSequenceClassification from the checkpoint of a model that you expect to be exactly identical (initializing a BertForSequenceClassification model from a BertForSequenceClassification model).\n",
      "All the layers of TFBertForSequenceClassification were initialized from the model checkpoint at nlptown/bert-base-multilingual-uncased-sentiment.\n",
      "If your task is similar to the task the model of the checkpoint was trained on, you can already use TFBertForSequenceClassification for predictions without further training.\n"
     ]
    }
   ],
   "source": [
    "classifier = pipeline('sentiment-analysis', model=\"nlptown/bert-base-multilingual-uncased-sentiment\")"
   ]
  },
  {
   "cell_type": "code",
   "execution_count": 7,
   "id": "f499de1f-a09e-4e52-b91d-8f3efa545d27",
   "metadata": {},
   "outputs": [],
   "source": [
    "s_multilang = [\"खाना खराब है\", \"Here chats are good\", \"ये कपड़े अच्छे हैं\"]\n",
    "results = classifier(s_multilang)"
   ]
  },
  {
   "cell_type": "code",
   "execution_count": 8,
   "id": "eeb99660-1b95-4561-acd4-0c5bead8dbb9",
   "metadata": {},
   "outputs": [
    {
     "name": "stdout",
     "output_type": "stream",
     "text": [
      "{'label': '3 stars', 'score': 0.4069686532020569}\n",
      "{'label': '4 stars', 'score': 0.45486679673194885}\n",
      "{'label': '3 stars', 'score': 0.3120446801185608}\n"
     ]
    }
   ],
   "source": [
    "for result in results:\n",
    "    print(result)"
   ]
  },
  {
   "cell_type": "code",
   "execution_count": null,
   "id": "d1e08724-8176-408e-be4e-4bab27c6bb67",
   "metadata": {},
   "outputs": [],
   "source": []
  }
 ],
 "metadata": {
  "kernelspec": {
   "display_name": "Python 3 (ipykernel)",
   "language": "python",
   "name": "python3"
  },
  "language_info": {
   "codemirror_mode": {
    "name": "ipython",
    "version": 3
   },
   "file_extension": ".py",
   "mimetype": "text/x-python",
   "name": "python",
   "nbconvert_exporter": "python",
   "pygments_lexer": "ipython3",
   "version": "3.11.5"
  }
 },
 "nbformat": 4,
 "nbformat_minor": 5
}
