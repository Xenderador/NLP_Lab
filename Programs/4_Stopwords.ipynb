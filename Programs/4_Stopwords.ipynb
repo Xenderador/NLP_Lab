{
 "cells": [
  {
   "cell_type": "markdown",
   "metadata": {},
   "source": [
    "# Stop words operations on email dataset using Spacy, gensim and NLTK\n",
    "1. Display existing stop words in the default list\n",
    "2. Removing stop words from the default list\n",
    "3. Adding stop words to the default list\n",
    "4. Apply stop word elemination to the email Dataset"
   ]
  },
  {
   "cell_type": "code",
   "execution_count": 1,
   "metadata": {},
   "outputs": [
    {
     "name": "stdout",
     "output_type": "stream",
     "text": [
      "                                                text spam\n",
      "0  Subject: naturally it's your irresistible your...    1\n",
      "1  Subject: the stock trading gunslinger  fanny i...    1\n",
      "2  Subject: unbelievable new homes made easy  im ...    1\n",
      "3  Subject: 4 color printing special  request add...    1\n",
      "4  Subject: do not have money , get software cds ...    1\n",
      "5  Subject: great nnews  hello , welcome to medzo...    1\n",
      "6  Subject: here ' s a hot play in motion  homela...    1\n",
      "7  Subject: save your money buy getting this thin...    1\n",
      "8  Subject: undeliverable : home based business f...    1\n",
      "9  Subject: save your money buy getting this thin...    1\n"
     ]
    },
    {
     "name": "stderr",
     "output_type": "stream",
     "text": [
      "/tmp/ipykernel_4110/1962396282.py:1: DeprecationWarning: \n",
      "Pyarrow will become a required dependency of pandas in the next major release of pandas (pandas 3.0),\n",
      "(to allow more performant data types, such as the Arrow string type, and better interoperability with other libraries)\n",
      "but was not found to be installed on your system.\n",
      "If this would cause problems for you,\n",
      "please provide us feedback at https://github.com/pandas-dev/pandas/issues/54466\n",
      "        \n",
      "  import pandas as pd\n"
     ]
    }
   ],
   "source": [
    "import pandas as pd\n",
    "data = pd.read_csv('../Rizzources/emails.csv', usecols=['text', 'spam'])\n",
    "print(data.head(10))"
   ]
  },
  {
   "cell_type": "markdown",
   "metadata": {},
   "source": [
    "## Using Spacy"
   ]
  },
  {
   "cell_type": "markdown",
   "metadata": {},
   "source": [
    "### 1. Display existing Stopwords"
   ]
  },
  {
   "cell_type": "code",
   "execution_count": 2,
   "metadata": {},
   "outputs": [
    {
     "name": "stdout",
     "output_type": "stream",
     "text": [
      "{'wherever', 'nor', 'whereupon', 'name', 'few', 'seems', 'something', 'ours', 'next', 'twenty', 'neither', 'whence', 'here', 'full', 'yours', 'whereas', 'three', 'does', 'therein', '’m', 'who', 'put', 'might', 'so', '‘m', 'alone', 'may', 'now', 'along', 'together', 'not', 'get', 'only', 'without', 'already', 'has', 'no', 'beforehand', 'sometimes', 'rather', 're', 'almost', 'please', 'although', 'much', 'then', 'however', 'while', 'once', 'either', 'except', 'mostly', 'to', 'thereby', 'four', 'latter', 'see', 'go', 'have', 'whatever', 'whole', '’d', 'latterly', 'what', 'further', 'besides', 'everywhere', 'such', 'until', '‘ll', 'if', 'seeming', 'or', 'anyone', 'say', 'nobody', 'anyway', \"'s\", 'below', 'off', 'us', 'n’t', 'many', 'moreover', 'thence', 'per', 'hereupon', 'top', 'ourselves', 'whether', 'wherein', 'beyond', 'indeed', 'am', 'become', 'its', 'same', 'seemed', 'regarding', 'do', 'is', 'whose', 'third', 'amongst', 'several', 'above', 'very', 'some', 'those', 'unless', 'onto', 'themselves', 'between', 'becoming', 'on', 'five', 'namely', 'throughout', 'be', 'from', '‘ve', 'quite', 'meanwhile', 'why', 'an', 'one', 'were', 'he', 'first', 'been', 'within', 'any', 'hereby', 'than', 'all', 'nowhere', 'ten', 'towards', 'there', 'else', 'about', 'yourself', 'was', 'whereby', 'fifty', '‘d', 'thereupon', 'whoever', 'using', 'by', 'around', 'fifteen', 'doing', \"'ve\", 'serious', 'other', 'did', 'call', 'thus', 'someone', 'nevertheless', 'beside', 'former', 'had', 'done', 'against', 'before', 'himself', 'their', 'under', 'also', 'whenever', 'they', 'becomes', 'bottom', 'each', 'anything', 'for', 'thru', 'being', 'the', 'show', 'mine', 'otherwise', 'ca', 'never', 'really', 'every', 'you', 'will', 'hers', 'everything', 'me', 'could', 'back', 'down', 'sometime', 'last', 'amount', 'still', 'myself', 'yourselves', 'another', 'after', \"'d\", 'that', 'but', 'his', 'more', 'must', 'your', 'at', '’ll', 'hence', 'upon', \"'m\", 'should', 'again', 'least', 'therefore', 'two', 'somewhere', 'yet', 'eight', 'up', 'became', 'elsewhere', 'noone', 'front', 'various', 'my', 'keep', '’re', 'her', 'whereafter', 'empty', 'side', 'which', 'across', 'i', 'nine', 'and', 'move', 'sixty', '‘s', 'due', 'make', 'through', 'just', 'both', 'seem', 'since', 'too', 'always', 'hundred', 'ever', 'she', 'herein', 'into', 'whom', 'anywhere', 'herself', 'most', 'him', 'own', 'them', 'anyhow', \"n't\", 'over', 'everyone', 'enough', 'formerly', 'these', 'via', 'in', 'where', 'made', '‘re', 'because', 'we', 'used', 'less', 'give', 'cannot', 'forty', 'during', 'twelve', 'as', 'among', 'would', 'are', 'somehow', 'often', 'part', 'n‘t', 'itself', 'whither', 'of', 'this', 'can', 'out', 'afterwards', 'behind', '’s', 'perhaps', 'a', 'even', 'none', 'toward', 'with', 'hereafter', 'thereafter', \"'re\", 'eleven', \"'ll\", 'how', 'our', 'others', 'when', 'well', '’ve', 'though', 'six', 'it', 'nothing', 'take'}\n"
     ]
    }
   ],
   "source": [
    "import spacy\n",
    "nlp = spacy.load('en_core_web_sm')\n",
    "\n",
    "all_stopwords = nlp.Defaults.stop_words\n",
    "print(all_stopwords)"
   ]
  },
  {
   "cell_type": "markdown",
   "metadata": {},
   "source": [
    "### 2. Removing Stopwords"
   ]
  },
  {
   "cell_type": "code",
   "execution_count": 4,
   "metadata": {},
   "outputs": [
    {
     "name": "stdout",
     "output_type": "stream",
     "text": [
      "{'wherever', 'nor', 'whereupon', 'name', 'few', 'seems', 'something', 'ours', 'next', 'twenty', 'neither', 'whence', 'here', 'full', 'yours', 'whereas', 'three', 'does', 'therein', '’m', 'who', 'put', 'might', 'so', '‘m', 'alone', 'may', 'now', 'along', 'together', 'not', 'get', 'only', 'without', 'already', 'has', 'no', 'beforehand', 'sometimes', 'rather', 're', 'almost', 'please', 'although', 'much', 'then', 'however', 'while', 'once', 'either', 'except', 'mostly', 'to', 'thereby', 'four', 'latter', 'see', 'go', 'have', 'whatever', 'whole', '’d', 'latterly', 'what', 'further', 'besides', 'everywhere', 'such', 'until', '‘ll', 'if', 'seeming', 'or', 'anyone', 'say', 'nobody', 'anyway', \"'s\", 'below', 'off', 'us', 'n’t', 'many', 'moreover', 'thence', 'per', 'hereupon', 'top', 'ourselves', 'whether', 'wherein', 'beyond', 'indeed', 'am', 'become', 'its', 'same', 'seemed', 'regarding', 'do', 'is', 'whose', 'third', 'amongst', 'several', 'above', 'very', 'some', 'those', 'unless', 'onto', 'themselves', 'between', 'becoming', 'on', 'five', 'namely', 'throughout', 'be', 'from', '‘ve', 'quite', 'meanwhile', 'why', 'an', 'one', 'were', 'he', 'first', 'been', 'within', 'any', 'hereby', 'than', 'all', 'nowhere', 'ten', 'towards', 'there', 'else', 'about', 'yourself', 'was', 'whereby', 'fifty', '‘d', 'thereupon', 'whoever', 'using', 'by', 'around', 'fifteen', 'doing', \"'ve\", 'serious', 'other', 'did', 'call', 'thus', 'someone', 'nevertheless', 'beside', 'former', 'had', 'done', 'against', 'before', 'himself', 'their', 'under', 'also', 'whenever', 'they', 'becomes', 'bottom', 'each', 'anything', 'for', 'thru', 'being', 'the', 'show', 'mine', 'otherwise', 'ca', 'never', 'really', 'every', 'you', 'hers', 'everything', 'me', 'could', 'back', 'down', 'sometime', 'last', 'amount', 'still', 'myself', 'yourselves', 'another', 'after', \"'d\", 'that', 'but', 'his', 'more', 'must', 'your', 'at', '’ll', 'hence', 'upon', \"'m\", 'should', 'again', 'least', 'therefore', 'two', 'somewhere', 'yet', 'eight', 'up', 'became', 'elsewhere', 'noone', 'front', 'various', 'my', 'keep', '’re', 'her', 'whereafter', 'empty', 'side', 'which', 'across', 'i', 'nine', 'and', 'move', 'sixty', '‘s', 'due', 'make', 'through', 'just', 'both', 'seem', 'since', 'too', 'always', 'hundred', 'ever', 'she', 'herein', 'into', 'whom', 'anywhere', 'herself', 'most', 'him', 'own', 'them', 'anyhow', \"n't\", 'over', 'everyone', 'enough', 'formerly', 'these', 'via', 'in', 'where', 'made', '‘re', 'because', 'we', 'used', 'less', 'give', 'cannot', 'forty', 'during', 'twelve', 'as', 'among', 'would', 'are', 'somehow', 'often', 'part', 'n‘t', 'itself', 'whither', 'of', 'this', 'can', 'out', 'afterwards', 'behind', '’s', 'perhaps', 'a', 'even', 'none', 'toward', 'with', 'hereafter', 'thereafter', \"'re\", 'eleven', \"'ll\", 'how', 'our', 'others', 'when', 'well', '’ve', 'though', 'six', 'it', 'nothing', 'take'}\n"
     ]
    }
   ],
   "source": [
    "all_stopwords.remove('will')\n",
    "print(all_stopwords)"
   ]
  },
  {
   "cell_type": "markdown",
   "metadata": {},
   "source": [
    "### 3. Adding Stopwords"
   ]
  },
  {
   "cell_type": "code",
   "execution_count": 5,
   "metadata": {},
   "outputs": [
    {
     "name": "stdout",
     "output_type": "stream",
     "text": [
      "{'wherever', 'nor', 'whereupon', 'name', 'few', 'seems', 'something', 'ours', 'next', 'twenty', 'neither', 'whence', 'here', 'full', 'yours', 'whereas', 'three', 'does', 'therein', '’m', 'who', 'put', 'might', 'so', '‘m', 'alone', 'may', 'now', 'along', 'together', 'not', 'get', 'only', 'without', 'already', 'has', 'no', 'beforehand', 'sometimes', 'rather', 're', 'almost', 'please', 'although', 'much', 'then', 'however', 'while', 'once', 'either', 'except', 'mostly', 'to', 'thereby', 'four', 'latter', 'see', 'go', 'have', 'whatever', 'whole', '’d', 'latterly', 'what', 'further', 'besides', 'everywhere', 'such', 'until', '‘ll', 'if', 'seeming', 'or', 'anyone', 'say', 'nobody', 'anyway', \"'s\", 'below', 'off', 'us', 'n’t', 'many', 'moreover', 'thence', 'per', 'hereupon', 'top', 'ourselves', 'whether', 'company', 'naturally', 'wherein', 'beyond', 'indeed', 'am', 'become', 'its', 'same', 'seemed', 'regarding', 'do', 'is', 'whose', 'third', 'amongst', 'several', 'above', 'very', 'some', 'those', 'unless', 'onto', 'themselves', 'between', 'becoming', 'on', 'five', 'namely', 'throughout', 'be', 'from', '‘ve', 'quite', 'meanwhile', 'why', 'an', 'one', 'were', 'he', 'first', 'been', 'within', 'any', 'hereby', 'than', 'all', 'nowhere', 'ten', 'towards', 'there', 'else', 'about', 'yourself', 'was', 'whereby', 'fifty', '‘d', 'thereupon', 'whoever', 'using', 'by', 'around', 'fifteen', 'doing', \"'ve\", 'serious', 'other', 'did', 'call', 'thus', 'someone', 'nevertheless', 'beside', 'former', 'had', 'done', 'against', 'before', 'himself', 'their', 'under', 'also', 'whenever', 'they', 'becomes', 'bottom', 'each', 'anything', 'for', 'thru', 'being', 'the', 'show', 'mine', 'otherwise', 'ca', 'never', 'really', 'every', 'you', 'hers', 'everything', 'me', 'could', 'back', 'down', 'sometime', 'last', 'amount', 'still', 'myself', 'yourselves', 'another', 'after', \"'d\", 'that', 'but', 'his', 'more', 'must', 'your', 'at', '’ll', 'hence', 'upon', \"'m\", 'should', 'again', 'least', 'therefore', 'two', 'somewhere', 'yet', 'eight', 'up', 'became', 'elsewhere', 'noone', 'front', 'various', 'my', 'keep', '’re', 'her', 'whereafter', 'empty', 'side', 'which', 'across', 'i', 'nine', 'and', 'move', 'sixty', '‘s', 'due', 'make', 'through', 'just', 'both', 'seem', 'since', 'too', 'always', 'hundred', 'ever', 'she', 'herein', 'into', 'whom', 'anywhere', 'herself', 'most', 'him', 'own', 'them', 'anyhow', \"n't\", 'over', 'everyone', 'enough', 'formerly', 'these', 'via', 'in', 'where', 'made', '‘re', 'because', 'we', 'used', 'less', 'give', 'cannot', 'forty', 'during', 'twelve', 'as', 'among', 'would', 'are', 'somehow', 'often', 'part', 'n‘t', 'itself', 'whither', 'of', 'this', 'can', 'out', 'afterwards', 'behind', '’s', 'perhaps', 'a', 'even', 'none', 'toward', 'with', 'hereafter', 'thereafter', \"'re\", 'eleven', \"'ll\", 'how', 'our', 'others', 'when', 'well', '’ve', 'though', 'six', 'it', 'nothing', 'take'}\n"
     ]
    }
   ],
   "source": [
    "nlp.Defaults.stop_words.add('naturally')\n",
    "nlp.Defaults.stop_words.add('company')\n",
    "print(all_stopwords)"
   ]
  },
  {
   "cell_type": "markdown",
   "metadata": {},
   "source": [
    "### 4. Stopword Elimination"
   ]
  },
  {
   "cell_type": "code",
   "execution_count": 6,
   "metadata": {},
   "outputs": [
    {
     "data": {
      "text/plain": [
       "\"Subject: naturally it's your irresistible your corporate identity  lt is really hard to recollect a company : the  market is full of suqgestions and the information isoverwhelminq ; but a good  catchy logo , stylish statlonery and outstanding website  will make the task much easier .  we don't promise that havinq ordered a iogo your  company will automaticaily become a world ieader : it isguite ciear that  without good products , effective business organization and practicable aim it  will be hotat nowadays market ; but we do promise that your marketing efforts  will become much more effective . here is the list of clear  benefits : creativeness : hand - made , original logos , specially done  to reflect your distinctive company image . convenience : logo and stationery  are provided in all formats ; easy - to - use content management system letsyou  change your website content and even its structure . promptness : you'll see logo drafts within three business days . affordability : your  marketing break - through shouldn't make gaps in your budget . 100 % satisfaction  guaranteed : we provide unlimited amount of changes with no extra fees for you to  be surethat you will love the result of this collaboration . have a look at our  portfolio _ _ _ _ _ _ _ _ _ _ _ _ _ _ _ _ _ _ _ _ _ _ _ _ _ _ _ _ _ _ _ _ _ _ _ _ _ _ _ _ _ _ _ _ _ _ _ _ _ _ _ _ not interested . . . _ _ _ _ _ _ _ _ _ _ _ _ _ _ _ _ _ _ _ _ _ _ _ _ _ _ _ _ _ _ _ _ _ _ _ _ _ _ _ _ _ _ _ _ _ _ _ _ _ _ _ _\""
      ]
     },
     "execution_count": 6,
     "metadata": {},
     "output_type": "execute_result"
    }
   ],
   "source": [
    "Text=data['text'][0]\n",
    "Text"
   ]
  },
  {
   "cell_type": "code",
   "execution_count": 7,
   "metadata": {},
   "outputs": [
    {
     "name": "stdout",
     "output_type": "stream",
     "text": [
      "Subject: naturally it's your irresistible your corporate identity  lt is really hard to recollect a company : the  market is full of suqgestions and the information isoverwhelminq ; but a good  catchy logo , stylish statlonery and outstanding website  will make the task much easier .  we don't promise that havinq ordered a iogo your  company will automaticaily become a world ieader : it isguite ciear that  without good products , effective business organization and practicable aim it  will be hotat nowadays market ; but we do promise that your marketing efforts  will become much more effective . here is the list of clear  benefits : creativeness : hand - made , original logos , specially done  to reflect your distinctive company image . convenience : logo and stationery  are provided in all formats ; easy - to - use content management system letsyou  change your website content and even its structure . promptness : you'll see logo drafts within three business days . affordability : your  marketing break - through shouldn't make gaps in your budget . 100 % satisfaction  guaranteed : we provide unlimited amount of changes with no extra fees for you to  be surethat you will love the result of this collaboration . have a look at our  portfolio _ _ _ _ _ _ _ _ _ _ _ _ _ _ _ _ _ _ _ _ _ _ _ _ _ _ _ _ _ _ _ _ _ _ _ _ _ _ _ _ _ _ _ _ _ _ _ _ _ _ _ _ not interested . . . _ _ _ _ _ _ _ _ _ _ _ _ _ _ _ _ _ _ _ _ _ _ _ _ _ _ _ _ _ _ _ _ _ _ _ _ _ _ _ _ _ _ _ _ _ _ _ _ _ _ _ _\n"
     ]
    }
   ],
   "source": [
    "doc=nlp(Text)\n",
    "text = [i.text for i in doc if i.text not in all_stopwords]\n",
    "print(Text)"
   ]
  },
  {
   "cell_type": "markdown",
   "metadata": {},
   "source": [
    "## Using Gensim"
   ]
  },
  {
   "cell_type": "code",
   "execution_count": 8,
   "metadata": {},
   "outputs": [],
   "source": [
    "import gensim"
   ]
  },
  {
   "cell_type": "code",
   "execution_count": 9,
   "metadata": {},
   "outputs": [],
   "source": [
    "all_stopwords=gensim.parsing.preprocessing.STOPWORDS"
   ]
  },
  {
   "cell_type": "markdown",
   "metadata": {},
   "source": [
    "### 1. Show all stopwords"
   ]
  },
  {
   "cell_type": "code",
   "execution_count": 10,
   "metadata": {},
   "outputs": [
    {
     "name": "stdout",
     "output_type": "stream",
     "text": [
      "frozenset({'wherever', 'nor', 'whereupon', 'name', 'seems', 'few', 'something', 'ours', 'sincere', 'next', 'twenty', 'neither', 'whence', 'here', 'full', 'yours', 'whereas', 'three', 'does', 'therein', 'who', 'put', 'might', 'so', 'alone', 'may', 'now', 'along', 'together', 'not', 'get', 'only', 'without', 'already', 'has', 'inc', 'no', 'beforehand', 'eg', 'sometimes', 'rather', 're', 'almost', 'please', 'although', 'much', 'then', 'however', 'fire', 'while', 'once', 'either', 'except', 'mostly', 'to', 'thereby', 'four', 'latter', 'cant', 'see', 'go', 'whatever', 'have', 'whole', 'latterly', 'what', 'further', 'besides', 'everywhere', 'such', 'until', 'if', 'seeming', 'or', 'anyone', 'say', 'nobody', 'anyway', 'below', 'off', 'us', 'many', 'moreover', 'thence', 'per', 'hereupon', 'top', 'system', 'ourselves', 'whether', 'kg', 'wherein', 'beyond', 'indeed', 'de', 'am', 'become', 'its', 'same', 'seemed', 'regarding', 'thin', 'do', 'whose', 'is', 'third', 'con', 'amongst', 'several', 'above', 'very', 'some', 'those', 'unless', 'onto', 'themselves', 'between', 'on', 'becoming', 'ie', 'five', 'namely', 'doesn', 'throughout', 'be', 'from', 'quite', 'meanwhile', 'why', 'an', 'one', 'were', 'he', 'first', 'been', 'within', 'any', 'hereby', 'describe', 'than', 'interest', 'all', 'ten', 'nowhere', 'towards', 'there', 'else', 'about', 'yourself', 'was', 'whereby', 'fifty', 'thereupon', 'don', 'whoever', 'using', 'co', 'by', 'around', 'fifteen', 'doing', 'serious', 'other', 'did', 'thus', 'call', 'someone', 'nevertheless', 'km', 'beside', 'former', 'had', 'fill', 'done', 'against', 'before', 'find', 'himself', 'under', 'whenever', 'also', 'their', 'thick', 'bill', 'they', 'bottom', 'becomes', 'each', 'anything', 'for', 'thru', 'being', 'the', 'mill', 'show', 'mine', 'otherwise', 'never', 'really', 'every', 'you', 'will', 'hers', 'everything', 'me', 'could', 'back', 'down', 'sometime', 'last', 'amount', 'still', 'myself', 'yourselves', 'another', 'after', 'that', 'un', 'but', 'his', 'more', 'must', 'your', 'at', 'hence', 'upon', 'should', 'again', 'least', 'therefore', 'two', 'somewhere', 'yet', 'eight', 'up', 'became', 'elsewhere', 'noone', 'front', 'various', 'my', 'keep', 'her', 'etc', 'whereafter', 'empty', 'side', 'which', 'across', 'i', 'nine', 'and', 'move', 'sixty', 'hasnt', 'due', 'through', 'make', 'just', 'both', 'seem', 'since', 'too', 'always', 'hundred', 'ever', 'she', 'herein', 'into', 'whom', 'herself', 'anywhere', 'most', 'him', 'own', 'them', 'anyhow', 'over', 'everyone', 'enough', 'ltd', 'formerly', 'these', 'via', 'in', 'where', 'made', 'cry', 'because', 'we', 'used', 'less', 'give', 'cannot', 'forty', 'during', 'twelve', 'as', 'didn', 'among', 'would', 'are', 'somehow', 'often', 'part', 'itself', 'whither', 'couldnt', 'this', 'of', 'can', 'out', 'afterwards', 'behind', 'found', 'detail', 'computer', 'perhaps', 'a', 'none', 'even', 'toward', 'with', 'hereafter', 'thereafter', 'eleven', 'how', 'our', 'others', 'when', 'well', 'though', 'six', 'it', 'nothing', 'amoungst', 'take'})\n"
     ]
    }
   ],
   "source": [
    "print(all_stopwords)"
   ]
  },
  {
   "cell_type": "markdown",
   "metadata": {},
   "source": [
    "### 2. Adding Stopwords"
   ]
  },
  {
   "cell_type": "code",
   "execution_count": 11,
   "metadata": {},
   "outputs": [
    {
     "name": "stdout",
     "output_type": "stream",
     "text": [
      "frozenset({'against', 'before', 'find', 'wherever', 'nor', 'himself', 'whereupon', 'name', 'seems', 'few', 'under', 'something', 'whenever', 'also', 'ours', 'their', 'thick', 'bill', 'sincere', 'they', 'bottom', 'becomes', 'next', 'each', 'anything', 'twenty', 'neither', 'whence', 'for', 'thru', 'being', 'here', 'full', 'yours', 'whereas', 'the', 'mill', 'three', 'show', 'does', 'mine', 'therein', 'who', 'otherwise', 'put', 'might', 'never', 'so', 'alone', 'really', 'may', 'every', 'you', 'now', 'along', 'will', 'together', 'not', 'hers', 'get', 'everything', 'only', 'me', 'could', 'back', 'down', 'without', 'sometime', 'already', 'has', 'inc', 'last', 'amount', 'still', 'no', 'myself', 'beforehand', 'eg', 'sometimes', 'rather', 'yourselves', 'another', 'after', 'that', 'un', 're', 'but', 'his', 'almost', 'more', 'must', 'please', 'your', 'at', 'hence', 'upon', 'although', 'much', 'then', 'should', 'however', 'fire', 'while', 'once', 'again', 'either', 'least', 'therefore', 'two', 'except', 'mostly', 'somewhere', 'to', 'yet', 'eight', 'up', 'thereby', 'four', 'latter', 'cant', 'became', 'see', 'elsewhere', 'noone', 'front', 'go', 'various', 'my', 'whatever', 'have', 'whole', 'latterly', 'what', 'further', 'keep', 'besides', 'her', 'everywhere', 'etc', 'whereafter', 'empty', 'side', 'such', 'which', 'across', 'i', 'nine', 'until', 'and', 'move', 'if', 'sixty', 'hasnt', 'seeming', 'due', 'through', 'or', 'make', 'just', 'both', 'seem', 'anyone', 'say', 'since', 'nobody', 'too', 'anyway', 'below', 'off', 'always', 'hundred', 'us', 'many', 'moreover', 'ever', 'she', 'herein', 'into', 'whom', 'herself', 'anywhere', 'thence', 'per', 'most', 'hereupon', 'top', 'system', 'him', 'ourselves', 'own', 'them', 'whether', 'company', 'naturally', 'kg', 'wherein', 'anyhow', 'beyond', 'indeed', 'over', 'de', 'am', 'become', 'its', 'same', 'everyone', 'enough', 'seemed', 'ltd', 'formerly', 'these', 'regarding', 'via', 'in', 'where', 'made', 'thin', 'cry', 'do', 'whose', 'is', 'third', 'con', 'amongst', 'several', 'above', 'very', 'because', 'we', 'used', 'some', 'those', 'less', 'give', 'unless', 'cannot', 'onto', 'themselves', 'forty', 'between', 'during', 'twelve', 'on', 'becoming', 'as', 'ie', 'five', 'didn', 'among', 'namely', 'would', 'doesn', 'throughout', 'are', 'somehow', 'be', 'often', 'part', 'from', 'itself', 'whither', 'couldnt', 'quite', 'this', 'meanwhile', 'why', 'of', 'can', 'out', 'an', 'one', 'afterwards', 'were', 'he', 'first', 'been', 'within', 'any', 'hereby', 'behind', 'found', 'describe', 'detail', 'than', 'interest', 'all', 'ten', 'nowhere', 'towards', 'there', 'computer', 'else', 'about', 'yourself', 'was', 'perhaps', 'whereby', 'a', 'fifty', 'thereupon', 'none', 'don', 'whoever', 'using', 'co', 'even', 'toward', 'by', 'with', 'hereafter', 'around', 'fifteen', 'thereafter', 'doing', 'eleven', 'serious', 'other', 'how', 'our', 'others', 'did', 'when', 'well', 'thus', 'call', 'though', 'someone', 'nevertheless', 'six', 'km', 'beside', 'former', 'it', 'nothing', 'amoungst', 'take', 'had', 'fill', 'done'})\n"
     ]
    }
   ],
   "source": [
    "from gensim.parsing.preprocessing import STOPWORDS\n",
    "all_stopwords_gensim=STOPWORDS.union(set(['naturally','company']))\n",
    "print(all_stopwords_gensim)"
   ]
  },
  {
   "cell_type": "markdown",
   "metadata": {},
   "source": [
    "### 3. Removing Stopwords"
   ]
  },
  {
   "cell_type": "code",
   "execution_count": 12,
   "metadata": {},
   "outputs": [
    {
     "name": "stdout",
     "output_type": "stream",
     "text": [
      "frozenset({'wherever', 'nor', 'whereupon', 'name', 'seems', 'few', 'something', 'ours', 'sincere', 'next', 'twenty', 'neither', 'whence', 'here', 'full', 'yours', 'whereas', 'three', 'does', 'therein', 'who', 'put', 'might', 'so', 'alone', 'may', 'now', 'along', 'together', 'not', 'get', 'only', 'without', 'already', 'has', 'inc', 'no', 'beforehand', 'eg', 'sometimes', 'rather', 're', 'almost', 'please', 'although', 'much', 'then', 'however', 'fire', 'while', 'once', 'either', 'except', 'mostly', 'to', 'thereby', 'four', 'latter', 'cant', 'see', 'go', 'whatever', 'have', 'whole', 'latterly', 'what', 'further', 'besides', 'everywhere', 'such', 'until', 'if', 'seeming', 'or', 'anyone', 'say', 'nobody', 'anyway', 'below', 'off', 'us', 'many', 'moreover', 'thence', 'per', 'hereupon', 'top', 'system', 'ourselves', 'whether', 'kg', 'wherein', 'beyond', 'indeed', 'de', 'am', 'become', 'its', 'same', 'seemed', 'regarding', 'thin', 'do', 'whose', 'is', 'third', 'con', 'amongst', 'several', 'above', 'very', 'some', 'those', 'unless', 'onto', 'themselves', 'between', 'on', 'becoming', 'ie', 'five', 'namely', 'doesn', 'throughout', 'be', 'from', 'quite', 'meanwhile', 'why', 'an', 'one', 'were', 'he', 'first', 'been', 'within', 'any', 'hereby', 'describe', 'than', 'interest', 'all', 'ten', 'nowhere', 'towards', 'there', 'else', 'about', 'yourself', 'was', 'whereby', 'fifty', 'thereupon', 'don', 'whoever', 'using', 'co', 'by', 'around', 'fifteen', 'doing', 'serious', 'other', 'did', 'thus', 'call', 'someone', 'nevertheless', 'km', 'beside', 'former', 'had', 'fill', 'done', 'against', 'before', 'find', 'himself', 'under', 'whenever', 'also', 'their', 'thick', 'bill', 'they', 'bottom', 'becomes', 'each', 'anything', 'for', 'thru', 'being', 'the', 'mill', 'show', 'mine', 'otherwise', 'never', 'really', 'every', 'you', 'will', 'hers', 'everything', 'me', 'could', 'back', 'down', 'sometime', 'last', 'amount', 'still', 'myself', 'yourselves', 'another', 'after', 'that', 'un', 'but', 'his', 'more', 'must', 'your', 'at', 'hence', 'upon', 'should', 'again', 'least', 'therefore', 'two', 'somewhere', 'yet', 'eight', 'up', 'became', 'elsewhere', 'noone', 'front', 'various', 'my', 'keep', 'her', 'etc', 'whereafter', 'empty', 'side', 'which', 'across', 'i', 'nine', 'and', 'move', 'sixty', 'hasnt', 'due', 'through', 'make', 'just', 'both', 'seem', 'since', 'too', 'always', 'hundred', 'ever', 'she', 'herein', 'into', 'whom', 'herself', 'anywhere', 'most', 'him', 'own', 'them', 'anyhow', 'over', 'everyone', 'enough', 'ltd', 'formerly', 'these', 'via', 'in', 'where', 'made', 'cry', 'because', 'we', 'used', 'less', 'give', 'cannot', 'forty', 'during', 'twelve', 'as', 'didn', 'among', 'would', 'are', 'somehow', 'often', 'part', 'itself', 'whither', 'couldnt', 'this', 'of', 'can', 'out', 'afterwards', 'behind', 'found', 'detail', 'computer', 'perhaps', 'a', 'none', 'even', 'toward', 'with', 'hereafter', 'thereafter', 'eleven', 'how', 'our', 'others', 'when', 'well', 'though', 'six', 'it', 'nothing', 'amoungst', 'take'})\n"
     ]
    }
   ],
   "source": [
    "all_stopwords_gensim=STOPWORDS\n",
    "print(all_stopwords_gensim)"
   ]
  },
  {
   "cell_type": "code",
   "execution_count": 13,
   "metadata": {},
   "outputs": [],
   "source": [
    "all_stopwords_gensim=STOPWORDS.difference('really')"
   ]
  },
  {
   "cell_type": "markdown",
   "metadata": {},
   "source": [
    "### 4. Apply to Email Dataset"
   ]
  },
  {
   "cell_type": "code",
   "execution_count": 14,
   "metadata": {},
   "outputs": [],
   "source": [
    "from gensim.utils import tokenize"
   ]
  },
  {
   "cell_type": "code",
   "execution_count": 15,
   "metadata": {},
   "outputs": [
    {
     "name": "stdout",
     "output_type": "stream",
     "text": [
      "['Subject', 'naturally', 's', 'irresistible', 'corporate', 'identity', 'lt', 'hard', 'recollect', 'a', 'company', 'market', 'suqgestions', 'information', 'isoverwhelminq', 'a', 'good', 'catchy', 'logo', 'stylish', 'statlonery', 'outstanding', 'website', 'task', 'easier', 't', 'promise', 'havinq', 'ordered', 'a', 'iogo', 'company', 'automaticaily', 'a', 'world', 'ieader', 'isguite', 'ciear', 'good', 'products', 'effective', 'business', 'organization', 'practicable', 'aim', 'hotat', 'nowadays', 'market', 'promise', 'marketing', 'efforts', 'effective', 'list', 'clear', 'benefits', 'creativeness', 'hand', 'original', 'logos', 'specially', 'reflect', 'distinctive', 'company', 'image', 'convenience', 'logo', 'stationery', 'provided', 'formats', 'easy', 'use', 'content', 'management', 'letsyou', 'change', 'website', 'content', 'structure', 'promptness', 'll', 'logo', 'drafts', 'business', 'days', 'affordability', 'marketing', 'break', 'shouldn', 't', 'gaps', 'budget', 'satisfaction', 'guaranteed', 'provide', 'unlimited', 'changes', 'extra', 'fees', 'surethat', 'love', 'result', 'collaboration', 'a', 'look', 'portfolio', '_', '_', '_', '_', '_', '_', '_', '_', '_', '_', '_', '_', '_', '_', '_', '_', '_', '_', '_', '_', '_', '_', '_', '_', '_', '_', '_', '_', '_', '_', '_', '_', '_', '_', '_', '_', '_', '_', '_', '_', '_', '_', '_', '_', '_', '_', '_', '_', '_', '_', '_', '_', 'interested', '_', '_', '_', '_', '_', '_', '_', '_', '_', '_', '_', '_', '_', '_', '_', '_', '_', '_', '_', '_', '_', '_', '_', '_', '_', '_', '_', '_', '_', '_', '_', '_', '_', '_', '_', '_', '_', '_', '_', '_', '_', '_', '_', '_', '_', '_', '_', '_', '_', '_', '_', '_']\n"
     ]
    }
   ],
   "source": [
    "tokens=list(tokenize(Text))\n",
    "tokens_without_sw = [word for word in tokens if not word in all_stopwords_gensim]\n",
    "print(tokens_without_sw)"
   ]
  },
  {
   "cell_type": "markdown",
   "metadata": {},
   "source": [
    "## Using NLTK"
   ]
  },
  {
   "cell_type": "code",
   "execution_count": 16,
   "metadata": {},
   "outputs": [],
   "source": [
    "import nltk\n",
    "from nltk.corpus import stopwords\n",
    "from nltk.tokenize import word_tokenize"
   ]
  },
  {
   "cell_type": "markdown",
   "metadata": {},
   "source": [
    "### 1. Showing All"
   ]
  },
  {
   "cell_type": "code",
   "execution_count": 17,
   "metadata": {},
   "outputs": [
    {
     "name": "stdout",
     "output_type": "stream",
     "text": [
      "{'against', 'before', \"shan't\", \"hasn't\", 'into', 'whom', 'won', 'herself', 'nor', 'himself', 'their', 'under', 'few', 'most', \"hadn't\", 'ours', 'him', 'they', 'shouldn', 'ourselves', 'ain', 'each', 'them', 'own', 'for', 'being', 'here', 'o', 'over', 'yours', \"isn't\", \"weren't\", 'the', 'am', 'does', 'its', 'who', 'same', \"you've\", 'couldn', \"wouldn't\", \"shouldn't\", 'these', 'so', \"mightn't\", 'haven', 'in', \"won't\", 'where', 'you', \"doesn't\", 'weren', 'now', 't', 'do', 'is', \"it's\", 'will', 'needn', 'not', 'hers', 'me', 'only', 'above', 'very', 'because', 'we', 's', 'some', 'those', 'down', 'ma', \"needn't\", 'themselves', 'has', 'between', 'during', \"didn't\", 'as', 'on', 'hasn', \"that'll\", 'didn', 'myself', 'yourselves', 'no', 'doesn', \"aren't\", 'are', 'be', 'after', 'that', 'll', 'from', 'itself', \"she's\", 'but', 'his', 're', 'shan', 'aren', 'more', 'your', 'wasn', 'd', \"you're\", \"you'd\", 'this', 'of', 'why', 'at', \"don't\", 'can', 'out', 'an', 've', 'were', 'he', 'been', 'any', 'then', 'm', 'should', 'y', \"should've\", 'while', 'once', 'again', 'hadn', 'than', 'all', 'mightn', 'there', 'to', 'yourself', 'about', 'up', 'was', 'a', \"mustn't\", 'don', \"couldn't\", \"haven't\", 'my', 'by', 'with', 'have', 'doing', 'what', 'further', 'her', 'how', 'other', 'such', 'our', 'which', 'having', \"wasn't\", 'did', 'i', 'when', 'wouldn', 'until', 'mustn', \"you'll\", 'and', 'if', 'through', 'or', 'just', 'both', 'it', 'too', 'had', 'below', 'off', 'theirs', 'isn', 'she'}\n"
     ]
    }
   ],
   "source": [
    "stop_words=set(stopwords.words('english'))\n",
    "print(stop_words)"
   ]
  },
  {
   "cell_type": "markdown",
   "metadata": {},
   "source": [
    "### 2. Remove Stopwords"
   ]
  },
  {
   "cell_type": "code",
   "execution_count": 18,
   "metadata": {},
   "outputs": [
    {
     "name": "stdout",
     "output_type": "stream",
     "text": [
      "{'against', 'before', \"shan't\", \"hasn't\", 'into', 'whom', 'won', 'herself', 'nor', 'himself', 'their', 'under', 'few', 'most', \"hadn't\", 'ours', 'him', 'they', 'shouldn', 'ourselves', 'ain', 'each', 'them', 'own', 'for', 'being', 'here', 'o', 'over', 'yours', \"isn't\", \"weren't\", 'the', 'am', 'does', 'its', 'who', 'same', \"you've\", 'couldn', \"wouldn't\", \"shouldn't\", 'these', 'so', \"mightn't\", 'haven', 'in', \"won't\", 'where', 'you', \"doesn't\", 'weren', 'now', 't', 'do', 'is', \"it's\", 'will', 'needn', 'not', 'hers', 'me', 'only', 'above', 'very', 'because', 'we', 's', 'some', 'those', 'down', 'ma', \"needn't\", 'themselves', 'has', 'between', 'during', \"didn't\", 'on', 'hasn', \"that'll\", 'didn', 'myself', 'yourselves', 'no', 'doesn', \"aren't\", 'are', 'be', 'after', 'that', 'll', 'from', 'itself', \"she's\", 'but', 'his', 're', 'shan', 'aren', 'more', 'your', 'wasn', 'd', \"you're\", \"you'd\", 'this', 'of', 'why', 'at', \"don't\", 'can', 'out', 'an', 've', 'were', 'he', 'been', 'any', 'then', 'm', 'should', 'y', \"should've\", 'while', 'once', 'again', 'hadn', 'than', 'all', 'mightn', 'there', 'to', 'yourself', 'about', 'up', 'was', 'a', \"mustn't\", 'don', \"couldn't\", \"haven't\", 'my', 'by', 'with', 'have', 'doing', 'what', 'further', 'her', 'how', 'other', 'such', 'our', 'which', 'having', \"wasn't\", 'did', 'i', 'when', 'wouldn', 'until', 'mustn', \"you'll\", 'and', 'if', 'through', 'or', 'just', 'both', 'it', 'too', 'had', 'below', 'off', 'theirs', 'isn', 'she'}\n"
     ]
    }
   ],
   "source": [
    "stop_words.remove('as')\n",
    "print(stop_words)"
   ]
  },
  {
   "cell_type": "markdown",
   "metadata": {},
   "source": [
    "### 3. Adding stopwords"
   ]
  },
  {
   "cell_type": "code",
   "execution_count": 19,
   "metadata": {},
   "outputs": [
    {
     "name": "stdout",
     "output_type": "stream",
     "text": [
      "{'against', 'before', \"shan't\", \"hasn't\", 'into', 'whom', 'won', 'herself', 'nor', 'himself', 'their', 'under', 'few', 'most', \"hadn't\", 'ours', 'him', 'they', 'shouldn', 'ourselves', 'ain', 'each', 'them', 'own', 'for', 'being', 'here', 'o', 'over', 'yours', \"isn't\", \"weren't\", 'the', 'am', 'does', 'its', 'who', 'same', \"you've\", 'couldn', \"wouldn't\", \"shouldn't\", 'these', 'so', \"mightn't\", 'haven', 'in', \"won't\", 'where', 'you', \"doesn't\", 'weren', 'now', 't', 'do', 'is', \"it's\", 'will', 'needn', 'not', 'hers', 'me', 'only', 'above', 'very', 'because', 'we', 's', 'some', 'those', 'down', 'ma', \"needn't\", 'themselves', 'has', 'between', 'during', \"didn't\", 'on', 'hasn', \"that'll\", 'didn', 'myself', 'yourselves', 'no', 'Subject:', 'doesn', \"aren't\", 'are', 'be', 'after', 'that', 'll', 'from', 'itself', \"she's\", 'but', 'his', 're', 'shan', 'aren', 'more', 'your', 'wasn', 'd', \"you're\", \"you'd\", 'this', 'of', 'why', 'at', \"don't\", 'can', 'out', 'an', 've', 'were', 'he', 'been', 'any', 'then', 'm', 'should', 'y', \"should've\", 'while', 'once', 'again', 'hadn', 'than', 'all', 'mightn', 'there', 'to', 'yourself', 'about', 'up', 'was', 'a', \"mustn't\", 'don', \"couldn't\", \"haven't\", 'my', 'by', 'with', 'have', 'doing', 'what', 'further', 'her', 'how', 'other', 'such', 'our', 'which', 'having', \"wasn't\", 'did', 'i', 'when', 'wouldn', 'until', 'mustn', \"you'll\", 'and', 'if', 'through', 'or', 'just', 'both', 'it', 'too', 'had', 'below', 'off', 'theirs', 'isn', 'she'}\n"
     ]
    }
   ],
   "source": [
    "stop_words.add('Subject:')\n",
    "print(stop_words)"
   ]
  },
  {
   "cell_type": "markdown",
   "metadata": {},
   "source": [
    "### 4. Apply to dataset"
   ]
  },
  {
   "cell_type": "code",
   "execution_count": 20,
   "metadata": {},
   "outputs": [
    {
     "data": {
      "text/plain": [
       "'Subject: 4 color printing special  request additional information now ! click here  click here for a printable version of our order form ( pdf format )  phone : ( 626 ) 338 - 8090 fax : ( 626 ) 338 - 8102 e - mail : ramsey @ goldengraphix . com  request additional information now ! click here  click here for a printable version of our order form ( pdf format )  golden graphix & printing 5110 azusa canyon rd . irwindale , ca 91706 this e - mail message is an advertisement and / or solicitation of games54 and Game5S4 . '"
      ]
     },
     "execution_count": 20,
     "metadata": {},
     "output_type": "execute_result"
    }
   ],
   "source": [
    "Text=data['text'][3]\n",
    "Text"
   ]
  },
  {
   "cell_type": "code",
   "execution_count": 21,
   "metadata": {},
   "outputs": [
    {
     "data": {
      "text/plain": [
       "'4 color printing special request additional information ! click click printable version order form ( pdf format ) phone : ( 626 ) 338 - 8090 fax : ( 626 ) 338 - 8102 e - mail : ramsey @ goldengraphix . com request additional information ! click click printable version order form ( pdf format ) golden graphix & printing 5110 azusa canyon rd . irwindale , ca 91706 e - mail message advertisement / solicitation games54 Game5S4 .'"
      ]
     },
     "execution_count": 21,
     "metadata": {},
     "output_type": "execute_result"
    }
   ],
   "source": [
    "def remove_stopwords(text):\n",
    "    return \" \".join([word for word in str(text).split() if word not in stop_words])\n",
    "data['text']= data['text'].apply(lambda x: remove_stopwords(x))\n",
    "data['text'][3]"
   ]
  },
  {
   "cell_type": "code",
   "execution_count": null,
   "metadata": {},
   "outputs": [],
   "source": []
  }
 ],
 "metadata": {
  "kernelspec": {
   "display_name": ".venv",
   "language": "python",
   "name": "python3"
  },
  "language_info": {
   "codemirror_mode": {
    "name": "ipython",
    "version": 3
   },
   "file_extension": ".py",
   "mimetype": "text/x-python",
   "name": "python",
   "nbconvert_exporter": "python",
   "pygments_lexer": "ipython3",
   "version": "3.10.12"
  },
  "orig_nbformat": 4
 },
 "nbformat": 4,
 "nbformat_minor": 2
}
