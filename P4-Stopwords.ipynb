{
 "cells": [
  {
   "cell_type": "markdown",
   "id": "2336a464-9770-40a2-be68-9860a4ee5813",
   "metadata": {},
   "source": [
    "## Stopword operations on email dataset using Spacy, Gensim and NLTK\n",
    "1. Display existing stop words in the default list\n",
    "2. Removing stop words from the default list\n",
    "3. Adding stop words to the default list\n",
    "4. Apply stop word elemination to the email Dataset"
   ]
  },
  {
   "cell_type": "code",
   "execution_count": 1,
   "id": "bef9baff-7bec-4671-9666-3941a1d26612",
   "metadata": {},
   "outputs": [
    {
     "name": "stdout",
     "output_type": "stream",
     "text": [
      "                                                text spam\n",
      "0  Subject: naturally it's your irresistible your...    1\n",
      "1  Subject: the stock trading gunslinger  fanny i...    1\n",
      "2  Subject: unbelievable new homes made easy  im ...    1\n",
      "3  Subject: 4 color printing special  request add...    1\n",
      "4  Subject: do not have money , get software cds ...    1\n"
     ]
    }
   ],
   "source": [
    "import pandas as pd\n",
    "data = pd.read_csv('Resources/emails.csv', usecols=['text', 'spam'])\n",
    "print(data.head())"
   ]
  },
  {
   "cell_type": "markdown",
   "id": "ae9a2a28-ba50-4daa-a7e8-6bca31693a00",
   "metadata": {},
   "source": [
    "## Using Spacy"
   ]
  },
  {
   "cell_type": "code",
   "execution_count": 2,
   "id": "60d57667-4ba3-4219-80dc-9fbe1a568d03",
   "metadata": {},
   "outputs": [],
   "source": [
    "import spacy"
   ]
  },
  {
   "cell_type": "code",
   "execution_count": null,
   "id": "6c90eee1-ec63-4b11-8bf4-75755a9e6d8f",
   "metadata": {},
   "outputs": [],
   "source": [
    "# Display Existing Stopwords\n",
    "nlp = spacy.load('en_core_web_sm')\n",
    "stop_words = nlp.Defaults.stop_words\n",
    "print(stop_words)"
   ]
  },
  {
   "cell_type": "code",
   "execution_count": 7,
   "id": "a231f043-c01b-493a-8a62-fc494c950924",
   "metadata": {},
   "outputs": [],
   "source": [
    "# Remove a stopword\n",
    "stop_words.remove('will')"
   ]
  },
  {
   "cell_type": "code",
   "execution_count": 8,
   "id": "a37b6142-cf89-437c-877e-79c4ba5d68bc",
   "metadata": {},
   "outputs": [],
   "source": [
    "# Add Stopword\n",
    "stop_words.add('Subject')"
   ]
  },
  {
   "cell_type": "code",
   "execution_count": 9,
   "id": "520882a6-018a-482c-9d02-5ca3d17741dc",
   "metadata": {},
   "outputs": [
    {
     "name": "stdout",
     "output_type": "stream",
     "text": [
      ": naturally irresistible corporate identity   lt hard recollect company :   market suqgestions information isoverwhelminq ; good   catchy logo , stylish statlonery outstanding website   will task easier .   promise havinq ordered iogo   company will automaticaily world ieader : isguite ciear   good products , effective business organization practicable aim   will hotat nowadays market ; promise marketing efforts   will effective . list clear   benefits : creativeness : hand - , original logos , specially   reflect distinctive company image . convenience : logo stationery   provided formats ; easy - - use content management system letsyou   change website content structure . promptness : logo drafts business days . affordability :   marketing break - gaps budget . 100 % satisfaction   guaranteed : provide unlimited changes extra fees   surethat will love result collaboration . look   portfolio _ _ _ _ _ _ _ _ _ _ _ _ _ _ _ _ _ _ _ _ _ _ _ _ _ _ _ _ _ _ _ _ _ _ _ _ _ _ _ _ _ _ _ _ _ _ _ _ _ _ _ _ interested . . . _ _ _ _ _ _ _ _ _ _ _ _ _ _ _ _ _ _ _ _ _ _ _ _ _ _ _ _ _ _ _ _ _ _ _ _ _ _ _ _ _ _ _ _ _ _ _ _ _ _ _ _\n"
     ]
    }
   ],
   "source": [
    "# Perform Stopword Elimination\n",
    "text = data['text'][0]\n",
    "doc = nlp(text)\n",
    "text = [i.text for i in doc if i.text not in stop_words]\n",
    "print(' '.join(text))"
   ]
  },
  {
   "cell_type": "markdown",
   "id": "8937362e-2ead-4217-b13f-4d4cb6c1c0be",
   "metadata": {},
   "source": [
    "## Using Gensim"
   ]
  },
  {
   "cell_type": "code",
   "execution_count": 10,
   "id": "f7b2edd0-3c4b-4e33-8d65-af4cd449d4df",
   "metadata": {},
   "outputs": [],
   "source": [
    "import gensim"
   ]
  },
  {
   "cell_type": "code",
   "execution_count": 11,
   "id": "19442ebf-8419-4a66-ae13-11a3a3e19ea4",
   "metadata": {},
   "outputs": [],
   "source": [
    "stop_words = gensim.parsing.preprocessing.STOPWORDS"
   ]
  },
  {
   "cell_type": "code",
   "execution_count": null,
   "id": "1db20dcf-67ae-4d81-b163-c172c49eeca0",
   "metadata": {},
   "outputs": [],
   "source": [
    "# Display Stopwords\n",
    "print(stop_words)"
   ]
  },
  {
   "cell_type": "code",
   "execution_count": 18,
   "id": "f465efc5-894d-46f9-a1b5-ebb2f0bceeae",
   "metadata": {},
   "outputs": [],
   "source": [
    "# Remove Stopwords\n",
    "stop_words = stop_words.difference({'yourselves'})"
   ]
  },
  {
   "cell_type": "code",
   "execution_count": 19,
   "id": "d6207a42-25d5-4400-835d-bf445f8ce74e",
   "metadata": {},
   "outputs": [],
   "source": [
    "stop_words = stop_words.union({'Subject'})"
   ]
  },
  {
   "cell_type": "code",
   "execution_count": 20,
   "id": "17f1d8a3-8014-43ad-b3d4-e5545ddceeba",
   "metadata": {},
   "outputs": [
    {
     "name": "stdout",
     "output_type": "stream",
     "text": [
      "['naturally', 's', 'irresistible', 'corporate', 'identity', 'lt', 'hard', 'recollect', 'company', 'market', 'suqgestions', 'information', 'isoverwhelminq', 'good', 'catchy', 'logo', 'stylish', 'statlonery', 'outstanding', 'website', 'task', 'easier', 't', 'promise', 'havinq', 'ordered', 'iogo', 'company', 'automaticaily', 'world', 'ieader', 'isguite', 'ciear', 'good', 'products', 'effective', 'business', 'organization', 'practicable', 'aim', 'hotat', 'nowadays', 'market', 'promise', 'marketing', 'efforts', 'effective', 'list', 'clear', 'benefits', 'creativeness', 'hand', 'original', 'logos', 'specially', 'reflect', 'distinctive', 'company', 'image', 'convenience', 'logo', 'stationery', 'provided', 'formats', 'easy', 'use', 'content', 'management', 'letsyou', 'change', 'website', 'content', 'structure', 'promptness', 'll', 'logo', 'drafts', 'business', 'days', 'affordability', 'marketing', 'break', 'shouldn', 't', 'gaps', 'budget', 'satisfaction', 'guaranteed', 'provide', 'unlimited', 'changes', 'extra', 'fees', 'surethat', 'love', 'result', 'collaboration', 'look', 'portfolio', '_', '_', '_', '_', '_', '_', '_', '_', '_', '_', '_', '_', '_', '_', '_', '_', '_', '_', '_', '_', '_', '_', '_', '_', '_', '_', '_', '_', '_', '_', '_', '_', '_', '_', '_', '_', '_', '_', '_', '_', '_', '_', '_', '_', '_', '_', '_', '_', '_', '_', '_', '_', 'interested', '_', '_', '_', '_', '_', '_', '_', '_', '_', '_', '_', '_', '_', '_', '_', '_', '_', '_', '_', '_', '_', '_', '_', '_', '_', '_', '_', '_', '_', '_', '_', '_', '_', '_', '_', '_', '_', '_', '_', '_', '_', '_', '_', '_', '_', '_', '_', '_', '_', '_', '_', '_']\n"
     ]
    }
   ],
   "source": [
    "# Perform Stopword Elimination\n",
    "from gensim.utils import tokenize\n",
    "tokens = list(tokenize(data['text'][0]))\n",
    "tokens_wo_sw = [word for word in tokens if word not in stop_words]\n",
    "print(tokens_wo_sw)"
   ]
  },
  {
   "cell_type": "markdown",
   "id": "f9643061-a113-4cf5-9d95-95c9dba38050",
   "metadata": {},
   "source": [
    "## Using NLTK\n"
   ]
  },
  {
   "cell_type": "code",
   "execution_count": 21,
   "id": "f6ce5f3e-0d26-4910-925a-4238642e1b38",
   "metadata": {},
   "outputs": [],
   "source": [
    "import nltk\n",
    "from nltk.corpus import stopwords\n",
    "from nltk.tokenize import word_tokenize"
   ]
  },
  {
   "cell_type": "code",
   "execution_count": 22,
   "id": "c730a7b8-4c7e-4edf-8cdf-dec64b2682b9",
   "metadata": {},
   "outputs": [
    {
     "name": "stdout",
     "output_type": "stream",
     "text": [
      "{'during', 'between', \"won't\", 'over', 'same', 'ours', 'should', 'me', 'we', 'wouldn', 'and', 'to', 'not', 'myself', 'which', 'itself', 'above', 'for', 'out', 'of', 'just', \"isn't\", 'yours', 'some', \"you're\", 'do', \"you'd\", 'into', 'most', 'will', 'other', 'on', 'your', 'they', 'he', 'didn', 'through', 'as', 'very', 'won', 'this', 'wasn', 'm', 'but', 'few', 'did', 'were', 'doesn', 'mustn', 'theirs', 'before', \"doesn't\", \"mustn't\", 'him', 'herself', 'them', 'there', \"hadn't\", 'how', 'under', 'by', 'that', 'has', 'being', 'their', 've', 'is', 'ma', 'than', 'o', 'while', 'hers', 'any', 'mightn', 'it', 'yourself', 'or', 'the', 'all', 'more', \"needn't\", 'who', 'needn', \"weren't\", 'down', \"that'll\", 'only', 's', 'because', 'when', 'in', \"shan't\", 'at', 'its', 'further', 'was', 'had', 'shouldn', 'below', 'been', 'am', \"couldn't\", 'about', 'such', 'where', 'i', 'll', 'yourselves', 'own', 'why', 'against', 'up', 'now', 't', \"she's\", 'both', 'her', \"haven't\", 'isn', 'his', 'don', 'if', 'no', \"didn't\", \"should've\", 'after', 'then', 'shan', 'ourselves', 'what', 'a', 'himself', 'couldn', 'having', \"wouldn't\", 'with', 'be', 'our', 'whom', 'are', 're', 'you', 'hasn', \"you'll\", 'an', 'here', 'off', \"shouldn't\", \"wasn't\", 'again', 'my', \"mightn't\", 'nor', 'hadn', \"you've\", \"hasn't\", 'too', \"aren't\", 'y', 'from', 'until', 'doing', 'those', \"it's\", 'does', 'these', 'aren', 'can', 'have', 'each', 'ain', 'haven', \"don't\", 'so', 'd', 'she', 'themselves', 'weren', 'once'}\n"
     ]
    }
   ],
   "source": [
    "# Display All Stopwords\n",
    "stop_words = set(stopwords.words('english'))\n",
    "print(stop_words)"
   ]
  },
  {
   "cell_type": "code",
   "execution_count": 23,
   "id": "0f283796-cab4-4158-b14b-ae7adf9750e5",
   "metadata": {},
   "outputs": [],
   "source": [
    "# Removing stopwords\n",
    "stop_words = stop_words.difference({'during'})"
   ]
  },
  {
   "cell_type": "code",
   "execution_count": 25,
   "id": "dff58978-2a4f-4391-9ae7-e9f30cb3a623",
   "metadata": {},
   "outputs": [],
   "source": [
    "# Adding Sstopwords\n",
    "stop_words = stop_words.union({'Subject'})"
   ]
  },
  {
   "cell_type": "code",
   "execution_count": 26,
   "id": "3709f841-6781-4d29-b2f7-5d9ee17f01f1",
   "metadata": {},
   "outputs": [
    {
     "name": "stdout",
     "output_type": "stream",
     "text": [
      "[':', 'naturally', \"'s\", 'irresistible', 'corporate', 'identity', 'lt', 'really', 'hard', 'recollect', 'company', ':', 'market', 'full', 'suqgestions', 'information', 'isoverwhelminq', ';', 'good', 'catchy', 'logo', ',', 'stylish', 'statlonery', 'outstanding', 'website', 'make', 'task', 'much', 'easier', '.', \"n't\", 'promise', 'havinq', 'ordered', 'iogo', 'company', 'automaticaily', 'become', 'world', 'ieader', ':', 'isguite', 'ciear', 'without', 'good', 'products', ',', 'effective', 'business', 'organization', 'practicable', 'aim', 'hotat', 'nowadays', 'market', ';', 'promise', 'marketing', 'efforts', 'become', 'much', 'effective', '.', 'list', 'clear', 'benefits', ':', 'creativeness', ':', 'hand', '-', 'made', ',', 'original', 'logos', ',', 'specially', 'done', 'reflect', 'distinctive', 'company', 'image', '.', 'convenience', ':', 'logo', 'stationery', 'provided', 'formats', ';', 'easy', '-', '-', 'use', 'content', 'management', 'system', 'letsyou', 'change', 'website', 'content', 'even', 'structure', '.', 'promptness', ':', \"'ll\", 'see', 'logo', 'drafts', 'within', 'three', 'business', 'days', '.', 'affordability', ':', 'marketing', 'break', '-', \"n't\", 'make', 'gaps', 'budget', '.', '100', '%', 'satisfaction', 'guaranteed', ':', 'provide', 'unlimited', 'amount', 'changes', 'extra', 'fees', 'surethat', 'love', 'result', 'collaboration', '.', 'look', 'portfolio', '_', '_', '_', '_', '_', '_', '_', '_', '_', '_', '_', '_', '_', '_', '_', '_', '_', '_', '_', '_', '_', '_', '_', '_', '_', '_', '_', '_', '_', '_', '_', '_', '_', '_', '_', '_', '_', '_', '_', '_', '_', '_', '_', '_', '_', '_', '_', '_', '_', '_', '_', '_', 'interested', '.', '.', '.', '_', '_', '_', '_', '_', '_', '_', '_', '_', '_', '_', '_', '_', '_', '_', '_', '_', '_', '_', '_', '_', '_', '_', '_', '_', '_', '_', '_', '_', '_', '_', '_', '_', '_', '_', '_', '_', '_', '_', '_', '_', '_', '_', '_', '_', '_', '_', '_', '_', '_', '_', '_']\n"
     ]
    }
   ],
   "source": [
    "# Eliminating Stopwords\n",
    "tokenz = word_tokenize(data['text'][0])\n",
    "tokenz_wo_sw = [word for word in tokenz if word not in stop_words]\n",
    "print(tokenz_wo_sw)"
   ]
  }
 ],
 "metadata": {
  "kernelspec": {
   "display_name": "Python 3 (ipykernel)",
   "language": "python",
   "name": "python3"
  },
  "language_info": {
   "codemirror_mode": {
    "name": "ipython",
    "version": 3
   },
   "file_extension": ".py",
   "mimetype": "text/x-python",
   "name": "python",
   "nbconvert_exporter": "python",
   "pygments_lexer": "ipython3",
   "version": "3.11.5"
  }
 },
 "nbformat": 4,
 "nbformat_minor": 5
}
